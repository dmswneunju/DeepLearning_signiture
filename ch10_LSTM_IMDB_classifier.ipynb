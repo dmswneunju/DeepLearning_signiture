{
  "nbformat": 4,
  "nbformat_minor": 0,
  "metadata": {
    "colab": {
      "provenance": [],
      "include_colab_link": true
    },
    "kernelspec": {
      "name": "python3",
      "display_name": "Python 3"
    },
    "language_info": {
      "name": "python"
    },
    "accelerator": "GPU",
    "gpuClass": "standard"
  },
  "cells": [
    {
      "cell_type": "markdown",
      "metadata": {
        "id": "view-in-github",
        "colab_type": "text"
      },
      "source": [
        "<a href=\"https://colab.research.google.com/github/dmswneunju/DeepLearning_signiture/blob/master/ch10_LSTM_IMDB_classifier.ipynb\" target=\"_parent\"><img src=\"https://colab.research.google.com/assets/colab-badge.svg\" alt=\"Open In Colab\"/></a>"
      ]
    },
    {
      "cell_type": "markdown",
      "source": [
        "# IMDB Movie Review Analysis\n",
        "* 자연어 처리를 위한 주요 신경망의 사용법 이해\n",
        "* 영화 리뷰평의 긍정/부정을 판단하기 위한 감정분석 분류 모델 생성\n",
        "* 데이터 셋 : IMDB 전처리 완료 데이터  \n"
      ],
      "metadata": {
        "id": "eYAhunFxLlj9"
      }
    },
    {
      "cell_type": "markdown",
      "source": [
        "\n",
        "## 문제정의 \n",
        "* binary classifier(positive or negative)"
      ],
      "metadata": {
        "id": "6kzKCF7Zb75r"
      }
    },
    {
      "cell_type": "markdown",
      "source": [
        "## 1. RNN의 유형\n",
        "* many to one \n",
        " * 영화리뷰 텍스트(many)를 입력으로 받아 긍정 또는 부정(one)을 출력하는 구조\n",
        " * Embedding : 영화 리뷰(text)를 벡터로 변환하는 연산\n",
        " * LSTM : 시계열 데이터를 처리하기 위한 구조\n",
        " * Linear : 결과 출력"
      ],
      "metadata": {
        "id": "BjX9hkQub9Ly"
      }
    },
    {
      "cell_type": "markdown",
      "source": [
        "### torch.nn.LSTM\n",
        "* Parameters\n",
        " * input_size : 몇개의 데이터가 입력으로 들어가는지\n",
        " * hidden_size : 은닉층 사이즈. 1개의 은닉층 : recurrent한 연산이 한번 시행\n",
        " * num_layers\n",
        " * dropout\n",
        " * batch_first : 입력 데이터의 구조에서 batch가 맨 앞에 있을 경우 batch_first=True로 설정\n",
        " * bidirectioal : 양방향 연산\n",
        "* inputs : input, (h_0, c_0) hidden state, cell state\n",
        "    * input shape\n",
        "        * (L, N, H_in) : `batch_size=False`\n",
        "        * (N, L, H_in) : `batch_size=True`\n",
        "\n",
        "* Outputs: output, (h_n, c_n)\n",
        "    * output shape\n",
        "        * (L, N, D*H_out) : `batch_size=False`\n",
        "        * (N, L, D*H_out) : `batch_size=True`\n",
        "----\n",
        "- **N**: batch size\n",
        "- **L**: sequence length\n",
        "- **D**: 2(bidirectional) or 1\n",
        "- **H_in**: input_size\n",
        "- **H_cell**: hidden_size\n",
        "- **H_out**: proj_size or hidden_size"
      ],
      "metadata": {
        "id": "0iyfKAs7chxJ"
      }
    },
    {
      "cell_type": "markdown",
      "source": [
        "## 2. 텍스트 데이터 전처리\n",
        "텍스트를 벡터로 변환하는 작업\n",
        "0. 원본(전처리 완료(모든 단어들 소문자화, 문장부호 제거))\n",
        "    - one reviewer mentioned watching oz episode hooked \n",
        "1. **사전 생성**\n",
        "    - 리뷰 문장에 들어있는 단어들을 추출하고, 각각의 단어에 숫자를 부여하는 작업\n",
        "    - ['one', 'reviewer', 'mentioned', 'watching', 'oz', 'episode', 'hooked']\n",
        "\n",
        "2. 리뷰**인코딩**\n",
        "    - 리뷰에 포함된 단어를 숫자형태로 변환하는 작업\n",
        "    -  {'i': 1, 'movie': 2, 'film': 3, 'the': 4, 'one': 5, 'like': 6, 'it': 7, 'time': 8, 'this': 9, 'good': 10, 'character': 11,...}    \n",
        "    - [5, 1095, 972, 74, 2893, 186, 2982, 119, 114, 538]\n",
        "3. **길이 맞춰주기**: padding or trim\n",
        "    - 신경망의 입력으로 사용하기 위에 일정 길이만큼 맞춰주는 작업\n",
        "    - 길이가 긴 문장은 잘라주고(trim), 길이가 짧은 문장은 채워주는(padding) 작업\n",
        "    - 최종적으로 전처리 된 문장(아래)를 신경망에 넣어줌.\n",
        "    - [[  191,  1083,   930,    81,  3724,   186,  3030,     1,   118, 114],<br>\n",
        "       [   47,   328,    59,   244,     1,     7,  1267,  1608, 17875, 4],<br>\n",
        "       [    3,    95,   328,    30,  1041,    13,   845,  1774,  2633, 2],...]\n",
        "\n",
        "4. **학습용, 테스트용 분할**\n",
        "5. **데이터 로더 생성**"
      ],
      "metadata": {
        "id": "v9yLeIlmffvC"
      }
    },
    {
      "cell_type": "markdown",
      "source": [
        "## 3. tqdm\n",
        "- iterable을 감싸서 진행률을 표시할 때 사용\n",
        "- 학습 과정의 iteration에서 진행률을 표시할 때 \n",
        "\n",
        "**tqdm parameter**\n",
        "* itereable: 반복자\n",
        "* desc: 진행바 앞에 텍스트 출력\n",
        "* leave: 진행상태를 남겨둘지 여부"
      ],
      "metadata": {
        "id": "ENMCCyRKhwbO"
      }
    },
    {
      "cell_type": "code",
      "source": [
        "'''from tqdm import tqdm\n",
        "import time\n",
        "\n",
        "for i in tqdm(range(100)):\n",
        "    time.sleep(0.05)\n",
        "    pass'''"
      ],
      "metadata": {
        "id": "zDInWWIvh4Du",
        "colab": {
          "base_uri": "https://localhost:8080/"
        },
        "outputId": "1d83944c-6137-49c6-be90-ddf7fb17aad3"
      },
      "execution_count": null,
      "outputs": [
        {
          "output_type": "stream",
          "name": "stderr",
          "text": [
            "100%|██████████| 100/100 [00:05<00:00, 19.68it/s]\n"
          ]
        }
      ]
    },
    {
      "cell_type": "markdown",
      "source": [
        "## 4. Early stop\n",
        "training data에 대해서는 loss가 감소하다가 validation data에 대해서는 loss가 감소하다가 증가하는 추이를 보면 학습을 중단."
      ],
      "metadata": {
        "id": "4Nf5rmPJJAwy"
      }
    },
    {
      "cell_type": "markdown",
      "source": [
        "# Sentimental Analysis\n"
      ],
      "metadata": {
        "id": "7ppCmVYdJ97Z"
      }
    },
    {
      "cell_type": "markdown",
      "source": [
        "### [Step1] Load libraries & Datasets"
      ],
      "metadata": {
        "id": "gGTzdgb6P495"
      }
    },
    {
      "cell_type": "code",
      "execution_count": null,
      "metadata": {
        "id": "UZdTG9ypLdLO"
      },
      "outputs": [],
      "source": [
        "import pandas as pd\n",
        "import numpy as np\n",
        "import matplotlib.pyplot as plt\n",
        "import seaborn as sns\n",
        "\n",
        "import torch\n",
        "from torch import nn\n",
        "from torch.optim import Adam\n",
        "from torch.utils.data import TensorDataset, DataLoader\n",
        "\n",
        "import os\n",
        "from tqdm import tqdm\n",
        "tqdm.pandas()\n",
        "from collections import Counter"
      ]
    },
    {
      "cell_type": "code",
      "source": [
        "from google.colab import drive\n",
        "drive.mount('/content/drive')"
      ],
      "metadata": {
        "colab": {
          "base_uri": "https://localhost:8080/"
        },
        "id": "onz2qkqiLE24",
        "outputId": "fa2a9c27-af64-4247-e8fb-c0d992ffcac0"
      },
      "execution_count": null,
      "outputs": [
        {
          "output_type": "stream",
          "name": "stdout",
          "text": [
            "Mounted at /content/drive\n"
          ]
        }
      ]
    },
    {
      "cell_type": "code",
      "source": [
        "%cd /content/drive/MyDrive"
      ],
      "metadata": {
        "colab": {
          "base_uri": "https://localhost:8080/"
        },
        "id": "eegIYo-NLGvw",
        "outputId": "9b7e92e0-4400-4934-aeab-bcd6c2884fb2"
      },
      "execution_count": null,
      "outputs": [
        {
          "output_type": "stream",
          "name": "stdout",
          "text": [
            "/content/drive/MyDrive\n"
          ]
        }
      ]
    },
    {
      "cell_type": "code",
      "source": [
        "data = pd.read_csv('exercise4.csv')\n",
        "data.head()"
      ],
      "metadata": {
        "colab": {
          "base_uri": "https://localhost:8080/",
          "height": 206
        },
        "id": "V3wHzN9VLMQv",
        "outputId": "6bebdc1a-0fe8-4c55-ba14-53b5cbad9c70"
      },
      "execution_count": null,
      "outputs": [
        {
          "output_type": "execute_result",
          "data": {
            "text/plain": [
              "                                           processed  label\n",
              "0  One reviewer mentioned watching Oz episode hoo...      1\n",
              "1  A wonderful little production . The filming te...      1\n",
              "2  I thought wonderful way spend time hot summer ...      1\n",
              "3  Basically family little boy Jake think zombie ...      0\n",
              "4  Petter Mattei Love Time Money visually stunnin...      1"
            ],
            "text/html": [
              "\n",
              "  <div id=\"df-3775a5e5-acb6-4d48-9e6e-d3ee4160598a\">\n",
              "    <div class=\"colab-df-container\">\n",
              "      <div>\n",
              "<style scoped>\n",
              "    .dataframe tbody tr th:only-of-type {\n",
              "        vertical-align: middle;\n",
              "    }\n",
              "\n",
              "    .dataframe tbody tr th {\n",
              "        vertical-align: top;\n",
              "    }\n",
              "\n",
              "    .dataframe thead th {\n",
              "        text-align: right;\n",
              "    }\n",
              "</style>\n",
              "<table border=\"1\" class=\"dataframe\">\n",
              "  <thead>\n",
              "    <tr style=\"text-align: right;\">\n",
              "      <th></th>\n",
              "      <th>processed</th>\n",
              "      <th>label</th>\n",
              "    </tr>\n",
              "  </thead>\n",
              "  <tbody>\n",
              "    <tr>\n",
              "      <th>0</th>\n",
              "      <td>One reviewer mentioned watching Oz episode hoo...</td>\n",
              "      <td>1</td>\n",
              "    </tr>\n",
              "    <tr>\n",
              "      <th>1</th>\n",
              "      <td>A wonderful little production . The filming te...</td>\n",
              "      <td>1</td>\n",
              "    </tr>\n",
              "    <tr>\n",
              "      <th>2</th>\n",
              "      <td>I thought wonderful way spend time hot summer ...</td>\n",
              "      <td>1</td>\n",
              "    </tr>\n",
              "    <tr>\n",
              "      <th>3</th>\n",
              "      <td>Basically family little boy Jake think zombie ...</td>\n",
              "      <td>0</td>\n",
              "    </tr>\n",
              "    <tr>\n",
              "      <th>4</th>\n",
              "      <td>Petter Mattei Love Time Money visually stunnin...</td>\n",
              "      <td>1</td>\n",
              "    </tr>\n",
              "  </tbody>\n",
              "</table>\n",
              "</div>\n",
              "      <button class=\"colab-df-convert\" onclick=\"convertToInteractive('df-3775a5e5-acb6-4d48-9e6e-d3ee4160598a')\"\n",
              "              title=\"Convert this dataframe to an interactive table.\"\n",
              "              style=\"display:none;\">\n",
              "        \n",
              "  <svg xmlns=\"http://www.w3.org/2000/svg\" height=\"24px\"viewBox=\"0 0 24 24\"\n",
              "       width=\"24px\">\n",
              "    <path d=\"M0 0h24v24H0V0z\" fill=\"none\"/>\n",
              "    <path d=\"M18.56 5.44l.94 2.06.94-2.06 2.06-.94-2.06-.94-.94-2.06-.94 2.06-2.06.94zm-11 1L8.5 8.5l.94-2.06 2.06-.94-2.06-.94L8.5 2.5l-.94 2.06-2.06.94zm10 10l.94 2.06.94-2.06 2.06-.94-2.06-.94-.94-2.06-.94 2.06-2.06.94z\"/><path d=\"M17.41 7.96l-1.37-1.37c-.4-.4-.92-.59-1.43-.59-.52 0-1.04.2-1.43.59L10.3 9.45l-7.72 7.72c-.78.78-.78 2.05 0 2.83L4 21.41c.39.39.9.59 1.41.59.51 0 1.02-.2 1.41-.59l7.78-7.78 2.81-2.81c.8-.78.8-2.07 0-2.86zM5.41 20L4 18.59l7.72-7.72 1.47 1.35L5.41 20z\"/>\n",
              "  </svg>\n",
              "      </button>\n",
              "      \n",
              "  <style>\n",
              "    .colab-df-container {\n",
              "      display:flex;\n",
              "      flex-wrap:wrap;\n",
              "      gap: 12px;\n",
              "    }\n",
              "\n",
              "    .colab-df-convert {\n",
              "      background-color: #E8F0FE;\n",
              "      border: none;\n",
              "      border-radius: 50%;\n",
              "      cursor: pointer;\n",
              "      display: none;\n",
              "      fill: #1967D2;\n",
              "      height: 32px;\n",
              "      padding: 0 0 0 0;\n",
              "      width: 32px;\n",
              "    }\n",
              "\n",
              "    .colab-df-convert:hover {\n",
              "      background-color: #E2EBFA;\n",
              "      box-shadow: 0px 1px 2px rgba(60, 64, 67, 0.3), 0px 1px 3px 1px rgba(60, 64, 67, 0.15);\n",
              "      fill: #174EA6;\n",
              "    }\n",
              "\n",
              "    [theme=dark] .colab-df-convert {\n",
              "      background-color: #3B4455;\n",
              "      fill: #D2E3FC;\n",
              "    }\n",
              "\n",
              "    [theme=dark] .colab-df-convert:hover {\n",
              "      background-color: #434B5C;\n",
              "      box-shadow: 0px 1px 3px 1px rgba(0, 0, 0, 0.15);\n",
              "      filter: drop-shadow(0px 1px 2px rgba(0, 0, 0, 0.3));\n",
              "      fill: #FFFFFF;\n",
              "    }\n",
              "  </style>\n",
              "\n",
              "      <script>\n",
              "        const buttonEl =\n",
              "          document.querySelector('#df-3775a5e5-acb6-4d48-9e6e-d3ee4160598a button.colab-df-convert');\n",
              "        buttonEl.style.display =\n",
              "          google.colab.kernel.accessAllowed ? 'block' : 'none';\n",
              "\n",
              "        async function convertToInteractive(key) {\n",
              "          const element = document.querySelector('#df-3775a5e5-acb6-4d48-9e6e-d3ee4160598a');\n",
              "          const dataTable =\n",
              "            await google.colab.kernel.invokeFunction('convertToInteractive',\n",
              "                                                     [key], {});\n",
              "          if (!dataTable) return;\n",
              "\n",
              "          const docLinkHtml = 'Like what you see? Visit the ' +\n",
              "            '<a target=\"_blank\" href=https://colab.research.google.com/notebooks/data_table.ipynb>data table notebook</a>'\n",
              "            + ' to learn more about interactive tables.';\n",
              "          element.innerHTML = '';\n",
              "          dataTable['output_type'] = 'display_data';\n",
              "          await google.colab.output.renderOutput(dataTable, element);\n",
              "          const docLink = document.createElement('div');\n",
              "          docLink.innerHTML = docLinkHtml;\n",
              "          element.appendChild(docLink);\n",
              "        }\n",
              "      </script>\n",
              "    </div>\n",
              "  </div>\n",
              "  "
            ]
          },
          "metadata": {},
          "execution_count": 28
        }
      ]
    },
    {
      "cell_type": "code",
      "source": [
        "data"
      ],
      "metadata": {
        "id": "9QZNko00lvSV",
        "outputId": "5e119010-1bbf-429b-dd3a-ede703818dad",
        "colab": {
          "base_uri": "https://localhost:8080/",
          "height": 423
        }
      },
      "execution_count": null,
      "outputs": [
        {
          "output_type": "execute_result",
          "data": {
            "text/plain": [
              "                                               processed  label\n",
              "0      One reviewer mentioned watching Oz episode hoo...      1\n",
              "1      A wonderful little production . The filming te...      1\n",
              "2      I thought wonderful way spend time hot summer ...      1\n",
              "3      Basically family little boy Jake think zombie ...      0\n",
              "4      Petter Mattei Love Time Money visually stunnin...      1\n",
              "...                                                  ...    ...\n",
              "49995  I thought movie right good job . It creative o...      1\n",
              "49996  Bad plot , bad dialogue , bad acting , idiotic...      0\n",
              "49997  I Catholic taught parochial elementary school ...      0\n",
              "49998  I going disagree previous comment side Maltin ...      0\n",
              "49999  No one expects Star Trek movie high art , fan ...      0\n",
              "\n",
              "[50000 rows x 2 columns]"
            ],
            "text/html": [
              "\n",
              "  <div id=\"df-325ae2bd-f17e-4adf-8eb6-ef02fa105d4c\">\n",
              "    <div class=\"colab-df-container\">\n",
              "      <div>\n",
              "<style scoped>\n",
              "    .dataframe tbody tr th:only-of-type {\n",
              "        vertical-align: middle;\n",
              "    }\n",
              "\n",
              "    .dataframe tbody tr th {\n",
              "        vertical-align: top;\n",
              "    }\n",
              "\n",
              "    .dataframe thead th {\n",
              "        text-align: right;\n",
              "    }\n",
              "</style>\n",
              "<table border=\"1\" class=\"dataframe\">\n",
              "  <thead>\n",
              "    <tr style=\"text-align: right;\">\n",
              "      <th></th>\n",
              "      <th>processed</th>\n",
              "      <th>label</th>\n",
              "    </tr>\n",
              "  </thead>\n",
              "  <tbody>\n",
              "    <tr>\n",
              "      <th>0</th>\n",
              "      <td>One reviewer mentioned watching Oz episode hoo...</td>\n",
              "      <td>1</td>\n",
              "    </tr>\n",
              "    <tr>\n",
              "      <th>1</th>\n",
              "      <td>A wonderful little production . The filming te...</td>\n",
              "      <td>1</td>\n",
              "    </tr>\n",
              "    <tr>\n",
              "      <th>2</th>\n",
              "      <td>I thought wonderful way spend time hot summer ...</td>\n",
              "      <td>1</td>\n",
              "    </tr>\n",
              "    <tr>\n",
              "      <th>3</th>\n",
              "      <td>Basically family little boy Jake think zombie ...</td>\n",
              "      <td>0</td>\n",
              "    </tr>\n",
              "    <tr>\n",
              "      <th>4</th>\n",
              "      <td>Petter Mattei Love Time Money visually stunnin...</td>\n",
              "      <td>1</td>\n",
              "    </tr>\n",
              "    <tr>\n",
              "      <th>...</th>\n",
              "      <td>...</td>\n",
              "      <td>...</td>\n",
              "    </tr>\n",
              "    <tr>\n",
              "      <th>49995</th>\n",
              "      <td>I thought movie right good job . It creative o...</td>\n",
              "      <td>1</td>\n",
              "    </tr>\n",
              "    <tr>\n",
              "      <th>49996</th>\n",
              "      <td>Bad plot , bad dialogue , bad acting , idiotic...</td>\n",
              "      <td>0</td>\n",
              "    </tr>\n",
              "    <tr>\n",
              "      <th>49997</th>\n",
              "      <td>I Catholic taught parochial elementary school ...</td>\n",
              "      <td>0</td>\n",
              "    </tr>\n",
              "    <tr>\n",
              "      <th>49998</th>\n",
              "      <td>I going disagree previous comment side Maltin ...</td>\n",
              "      <td>0</td>\n",
              "    </tr>\n",
              "    <tr>\n",
              "      <th>49999</th>\n",
              "      <td>No one expects Star Trek movie high art , fan ...</td>\n",
              "      <td>0</td>\n",
              "    </tr>\n",
              "  </tbody>\n",
              "</table>\n",
              "<p>50000 rows × 2 columns</p>\n",
              "</div>\n",
              "      <button class=\"colab-df-convert\" onclick=\"convertToInteractive('df-325ae2bd-f17e-4adf-8eb6-ef02fa105d4c')\"\n",
              "              title=\"Convert this dataframe to an interactive table.\"\n",
              "              style=\"display:none;\">\n",
              "        \n",
              "  <svg xmlns=\"http://www.w3.org/2000/svg\" height=\"24px\"viewBox=\"0 0 24 24\"\n",
              "       width=\"24px\">\n",
              "    <path d=\"M0 0h24v24H0V0z\" fill=\"none\"/>\n",
              "    <path d=\"M18.56 5.44l.94 2.06.94-2.06 2.06-.94-2.06-.94-.94-2.06-.94 2.06-2.06.94zm-11 1L8.5 8.5l.94-2.06 2.06-.94-2.06-.94L8.5 2.5l-.94 2.06-2.06.94zm10 10l.94 2.06.94-2.06 2.06-.94-2.06-.94-.94-2.06-.94 2.06-2.06.94z\"/><path d=\"M17.41 7.96l-1.37-1.37c-.4-.4-.92-.59-1.43-.59-.52 0-1.04.2-1.43.59L10.3 9.45l-7.72 7.72c-.78.78-.78 2.05 0 2.83L4 21.41c.39.39.9.59 1.41.59.51 0 1.02-.2 1.41-.59l7.78-7.78 2.81-2.81c.8-.78.8-2.07 0-2.86zM5.41 20L4 18.59l7.72-7.72 1.47 1.35L5.41 20z\"/>\n",
              "  </svg>\n",
              "      </button>\n",
              "      \n",
              "  <style>\n",
              "    .colab-df-container {\n",
              "      display:flex;\n",
              "      flex-wrap:wrap;\n",
              "      gap: 12px;\n",
              "    }\n",
              "\n",
              "    .colab-df-convert {\n",
              "      background-color: #E8F0FE;\n",
              "      border: none;\n",
              "      border-radius: 50%;\n",
              "      cursor: pointer;\n",
              "      display: none;\n",
              "      fill: #1967D2;\n",
              "      height: 32px;\n",
              "      padding: 0 0 0 0;\n",
              "      width: 32px;\n",
              "    }\n",
              "\n",
              "    .colab-df-convert:hover {\n",
              "      background-color: #E2EBFA;\n",
              "      box-shadow: 0px 1px 2px rgba(60, 64, 67, 0.3), 0px 1px 3px 1px rgba(60, 64, 67, 0.15);\n",
              "      fill: #174EA6;\n",
              "    }\n",
              "\n",
              "    [theme=dark] .colab-df-convert {\n",
              "      background-color: #3B4455;\n",
              "      fill: #D2E3FC;\n",
              "    }\n",
              "\n",
              "    [theme=dark] .colab-df-convert:hover {\n",
              "      background-color: #434B5C;\n",
              "      box-shadow: 0px 1px 3px 1px rgba(0, 0, 0, 0.15);\n",
              "      filter: drop-shadow(0px 1px 2px rgba(0, 0, 0, 0.3));\n",
              "      fill: #FFFFFF;\n",
              "    }\n",
              "  </style>\n",
              "\n",
              "      <script>\n",
              "        const buttonEl =\n",
              "          document.querySelector('#df-325ae2bd-f17e-4adf-8eb6-ef02fa105d4c button.colab-df-convert');\n",
              "        buttonEl.style.display =\n",
              "          google.colab.kernel.accessAllowed ? 'block' : 'none';\n",
              "\n",
              "        async function convertToInteractive(key) {\n",
              "          const element = document.querySelector('#df-325ae2bd-f17e-4adf-8eb6-ef02fa105d4c');\n",
              "          const dataTable =\n",
              "            await google.colab.kernel.invokeFunction('convertToInteractive',\n",
              "                                                     [key], {});\n",
              "          if (!dataTable) return;\n",
              "\n",
              "          const docLinkHtml = 'Like what you see? Visit the ' +\n",
              "            '<a target=\"_blank\" href=https://colab.research.google.com/notebooks/data_table.ipynb>data table notebook</a>'\n",
              "            + ' to learn more about interactive tables.';\n",
              "          element.innerHTML = '';\n",
              "          dataTable['output_type'] = 'display_data';\n",
              "          await google.colab.output.renderOutput(dataTable, element);\n",
              "          const docLink = document.createElement('div');\n",
              "          docLink.innerHTML = docLinkHtml;\n",
              "          element.appendChild(docLink);\n",
              "        }\n",
              "      </script>\n",
              "    </div>\n",
              "  </div>\n",
              "  "
            ]
          },
          "metadata": {},
          "execution_count": 29
        }
      ]
    },
    {
      "cell_type": "code",
      "source": [
        "data['processed'] = data['processed'].str.lower().replace(r\"[^a-zA-Z ]\", \"\", regex=True) #모든 데이터 소문자화, 특수기호는 비어있는 값으로 대체"
      ],
      "metadata": {
        "id": "BksPIt5aMGog"
      },
      "execution_count": null,
      "outputs": []
    },
    {
      "cell_type": "code",
      "source": [
        "data['processed'][0]"
      ],
      "metadata": {
        "colab": {
          "base_uri": "https://localhost:8080/",
          "height": 148
        },
        "id": "TORVrqdyMhi2",
        "outputId": "d8adea0f-9f26-48f5-ec52-f62693496122"
      },
      "execution_count": null,
      "outputs": [
        {
          "output_type": "execute_result",
          "data": {
            "text/plain": [
              "'one reviewer mentioned watching oz episode hooked  they right  exactly happened  the first thing struck oz brutality unflinching scene violence  set right word go  trust  show faint hearted timid  this show pull punch regard drug  sex violence  its hardcore  classic use word  it called oz nickname given oswald maximum security state penitentary  it focus mainly emerald city  experimental section prison cell glass front face inwards  privacy high agenda  em city home many   aryans  muslims  gangsta  latinos  christians  italians  irish     scuffle  death stare  dodgy dealing shady agreement never far away  i would say main appeal show due fact go show dare  forget pretty picture painted mainstream audience  forget charm  forget romance    oz mess around  the first episode i ever saw struck nasty surreal  i say i ready  i watched  i developed taste oz  got accustomed high level graphic violence  not violence  injustice crooked guard sold nickel  inmate kill order get away  well mannered  middle class inmate turned prison bitch due lack street skill prison experience watching oz  may become comfortable uncomfortable viewing     thats get touch darker side '"
            ],
            "application/vnd.google.colaboratory.intrinsic+json": {
              "type": "string"
            }
          },
          "metadata": {},
          "execution_count": 6
        }
      ]
    },
    {
      "cell_type": "markdown",
      "source": [
        "## [사전생성]"
      ],
      "metadata": {
        "id": "xRA5d-w0Mr-v"
      }
    },
    {
      "cell_type": "code",
      "source": [
        "#문장에 포함된 단어 토큰화\n",
        "reviews = data['processed'].values\n",
        "words = ' '.join(reviews).split() #띄어쓰기 기준으로 토큰화\n",
        "words[:10]"
      ],
      "metadata": {
        "colab": {
          "base_uri": "https://localhost:8080/"
        },
        "id": "OgA8SzfFMp7n",
        "outputId": "cb515c80-949d-40d2-ea85-040882d13152"
      },
      "execution_count": null,
      "outputs": [
        {
          "output_type": "execute_result",
          "data": {
            "text/plain": [
              "['one',\n",
              " 'reviewer',\n",
              " 'mentioned',\n",
              " 'watching',\n",
              " 'oz',\n",
              " 'episode',\n",
              " 'hooked',\n",
              " 'they',\n",
              " 'right',\n",
              " 'exactly']"
            ]
          },
          "metadata": {},
          "execution_count": 7
        }
      ]
    },
    {
      "cell_type": "code",
      "source": [
        "#리스트의 원소별로 숫자화\n",
        "counter = Counter(words)\n",
        "#각각의 단어가 몇번 나왔는지 파악하고 정렬\n",
        "vocab = sorted(counter, key=counter.get, reverse=True)\n",
        "int2word = dict(enumerate(vocab, 1))\n",
        "int2word[0] = '<PAD>'\n",
        "word2int = {word: id for id, word in int2word.items()}\n",
        "word2int #사전 생성"
      ],
      "metadata": {
        "colab": {
          "base_uri": "https://localhost:8080/"
        },
        "id": "rfKB2XWfMq1X",
        "outputId": "003bfe3e-eeaa-45a2-dbf8-85546d90ca15"
      },
      "execution_count": null,
      "outputs": [
        {
          "output_type": "execute_result",
          "data": {
            "text/plain": [
              "{'i': 1,\n",
              " 'movie': 2,\n",
              " 'film': 3,\n",
              " 'the': 4,\n",
              " 'one': 5,\n",
              " 'like': 6,\n",
              " 'it': 7,\n",
              " 'time': 8,\n",
              " 'this': 9,\n",
              " 'good': 10,\n",
              " 'character': 11,\n",
              " 'story': 12,\n",
              " 'even': 13,\n",
              " 'get': 14,\n",
              " 'would': 15,\n",
              " 'make': 16,\n",
              " 'see': 17,\n",
              " 'really': 18,\n",
              " 'scene': 19,\n",
              " 'well': 20,\n",
              " 'much': 21,\n",
              " 'bad': 22,\n",
              " 'people': 23,\n",
              " 'great': 24,\n",
              " 'also': 25,\n",
              " 'first': 26,\n",
              " 'show': 27,\n",
              " 'way': 28,\n",
              " 'made': 29,\n",
              " 'thing': 30,\n",
              " 'could': 31,\n",
              " 'life': 32,\n",
              " 'think': 33,\n",
              " 'go': 34,\n",
              " 'but': 35,\n",
              " 'know': 36,\n",
              " 'watch': 37,\n",
              " 'and': 38,\n",
              " 'love': 39,\n",
              " 'plot': 40,\n",
              " 'two': 41,\n",
              " 'actor': 42,\n",
              " 'many': 43,\n",
              " 'seen': 44,\n",
              " 'a': 45,\n",
              " 'say': 46,\n",
              " 'year': 47,\n",
              " 'never': 48,\n",
              " 'end': 49,\n",
              " 'acting': 50,\n",
              " 'look': 51,\n",
              " 'best': 52,\n",
              " 'little': 53,\n",
              " 'in': 54,\n",
              " 'there': 55,\n",
              " 'ever': 56,\n",
              " 'man': 57,\n",
              " 'better': 58,\n",
              " 'take': 59,\n",
              " 'if': 60,\n",
              " 'come': 61,\n",
              " 'work': 62,\n",
              " 'still': 63,\n",
              " 'he': 64,\n",
              " 'part': 65,\n",
              " 'something': 66,\n",
              " 'find': 67,\n",
              " 'director': 68,\n",
              " 'want': 69,\n",
              " 'back': 70,\n",
              " 'give': 71,\n",
              " 'lot': 72,\n",
              " 'real': 73,\n",
              " 'watching': 74,\n",
              " 'guy': 75,\n",
              " 'performance': 76,\n",
              " 'play': 77,\n",
              " 'old': 78,\n",
              " 'funny': 79,\n",
              " 'though': 80,\n",
              " 'woman': 81,\n",
              " 'another': 82,\n",
              " 'actually': 83,\n",
              " 'nothing': 84,\n",
              " 'role': 85,\n",
              " 'going': 86,\n",
              " 'new': 87,\n",
              " 'every': 88,\n",
              " 'point': 89,\n",
              " 'world': 90,\n",
              " 'girl': 91,\n",
              " 'day': 92,\n",
              " 'cast': 93,\n",
              " 'horror': 94,\n",
              " 'comedy': 95,\n",
              " 'minute': 96,\n",
              " 'thought': 97,\n",
              " 'u': 98,\n",
              " 'feel': 99,\n",
              " 'fact': 100,\n",
              " 'quite': 101,\n",
              " 'pretty': 102,\n",
              " 'got': 103,\n",
              " 'around': 104,\n",
              " 'action': 105,\n",
              " 'seems': 106,\n",
              " 'young': 107,\n",
              " 'you': 108,\n",
              " 'star': 109,\n",
              " 'big': 110,\n",
              " 'however': 111,\n",
              " 'enough': 112,\n",
              " 'long': 113,\n",
              " 'right': 114,\n",
              " 'line': 115,\n",
              " 'what': 116,\n",
              " 'may': 117,\n",
              " 'as': 118,\n",
              " 'they': 119,\n",
              " 'bit': 120,\n",
              " 'series': 121,\n",
              " 'must': 122,\n",
              " 'fan': 123,\n",
              " 'music': 124,\n",
              " 'set': 125,\n",
              " 'without': 126,\n",
              " 'friend': 127,\n",
              " 'original': 128,\n",
              " 'saw': 129,\n",
              " 'family': 130,\n",
              " 'always': 131,\n",
              " 'almost': 132,\n",
              " 'script': 133,\n",
              " 'interesting': 134,\n",
              " 'done': 135,\n",
              " 'whole': 136,\n",
              " 'least': 137,\n",
              " 'try': 138,\n",
              " 'far': 139,\n",
              " 'shot': 140,\n",
              " 'kind': 141,\n",
              " 'kid': 142,\n",
              " 'last': 143,\n",
              " 'making': 144,\n",
              " 'might': 145,\n",
              " 'anything': 146,\n",
              " 'effect': 147,\n",
              " 'since': 148,\n",
              " 'reason': 149,\n",
              " 'tv': 150,\n",
              " 'start': 151,\n",
              " 'book': 152,\n",
              " 'probably': 153,\n",
              " 'that': 154,\n",
              " 'so': 155,\n",
              " 'put': 156,\n",
              " 'place': 157,\n",
              " 'away': 158,\n",
              " 'yet': 159,\n",
              " 'moment': 160,\n",
              " 'fun': 161,\n",
              " 'anyone': 162,\n",
              " 'she': 163,\n",
              " 'worst': 164,\n",
              " 'not': 165,\n",
              " 'child': 166,\n",
              " 'let': 167,\n",
              " 'sure': 168,\n",
              " 'rather': 169,\n",
              " 'hard': 170,\n",
              " 'idea': 171,\n",
              " 'audience': 172,\n",
              " 'played': 173,\n",
              " 'screen': 174,\n",
              " 'found': 175,\n",
              " 'need': 176,\n",
              " 'tell': 177,\n",
              " 'looking': 178,\n",
              " 'turn': 179,\n",
              " 'although': 180,\n",
              " 'especially': 181,\n",
              " 'believe': 182,\n",
              " 'dvd': 183,\n",
              " 'ending': 184,\n",
              " 'course': 185,\n",
              " 'episode': 186,\n",
              " 'trying': 187,\n",
              " 'when': 188,\n",
              " 'mean': 189,\n",
              " 'everything': 190,\n",
              " 'job': 191,\n",
              " 'maybe': 192,\n",
              " 'three': 193,\n",
              " 'worth': 194,\n",
              " 'different': 195,\n",
              " 'someone': 196,\n",
              " 'war': 197,\n",
              " 'main': 198,\n",
              " 'sense': 199,\n",
              " 'american': 200,\n",
              " 'problem': 201,\n",
              " 'version': 202,\n",
              " 'money': 203,\n",
              " 'true': 204,\n",
              " 'watched': 205,\n",
              " 'keep': 206,\n",
              " 'everyone': 207,\n",
              " 'second': 208,\n",
              " 'all': 209,\n",
              " 'together': 210,\n",
              " 'help': 211,\n",
              " 'night': 212,\n",
              " 'high': 213,\n",
              " 'for': 214,\n",
              " 'mind': 215,\n",
              " 'half': 216,\n",
              " 'instead': 217,\n",
              " 'death': 218,\n",
              " 'said': 219,\n",
              " 'black': 220,\n",
              " 'boy': 221,\n",
              " 'special': 222,\n",
              " 'later': 223,\n",
              " 'house': 224,\n",
              " 'laugh': 225,\n",
              " 'hour': 226,\n",
              " 'wife': 227,\n",
              " 'john': 228,\n",
              " 'my': 229,\n",
              " 'seem': 230,\n",
              " 'beautiful': 231,\n",
              " 'left': 232,\n",
              " 'seeing': 233,\n",
              " 'short': 234,\n",
              " 'lead': 235,\n",
              " 'we': 236,\n",
              " 'excellent': 237,\n",
              " 'name': 238,\n",
              " 'le': 239,\n",
              " 'classic': 240,\n",
              " 'father': 241,\n",
              " 'sound': 242,\n",
              " 'else': 243,\n",
              " 'budget': 244,\n",
              " 'read': 245,\n",
              " 'face': 246,\n",
              " 'production': 247,\n",
              " 'viewer': 248,\n",
              " 'top': 249,\n",
              " 'piece': 250,\n",
              " 'used': 251,\n",
              " 'nice': 252,\n",
              " 'simply': 253,\n",
              " 'poor': 254,\n",
              " 'completely': 255,\n",
              " 'men': 256,\n",
              " 'eye': 257,\n",
              " 'home': 258,\n",
              " 'camera': 259,\n",
              " 'along': 260,\n",
              " 'human': 261,\n",
              " 'video': 262,\n",
              " 'dead': 263,\n",
              " 'no': 264,\n",
              " 'head': 265,\n",
              " 'song': 266,\n",
              " 'hollywood': 267,\n",
              " 'either': 268,\n",
              " 'school': 269,\n",
              " 'couple': 270,\n",
              " 'boring': 271,\n",
              " 'word': 272,\n",
              " 'low': 273,\n",
              " 'wrong': 274,\n",
              " 'picture': 275,\n",
              " 'hand': 276,\n",
              " 'enjoy': 277,\n",
              " 'use': 278,\n",
              " 'given': 279,\n",
              " 'full': 280,\n",
              " 'rest': 281,\n",
              " 'stupid': 282,\n",
              " 'next': 283,\n",
              " 'sex': 284,\n",
              " 'truly': 285,\n",
              " 'of': 286,\n",
              " 'writer': 287,\n",
              " 'awful': 288,\n",
              " 'hope': 289,\n",
              " 'run': 290,\n",
              " 'kill': 291,\n",
              " 'to': 292,\n",
              " 'person': 293,\n",
              " 'recommend': 294,\n",
              " 'style': 295,\n",
              " 'terrible': 296,\n",
              " 'game': 297,\n",
              " 'remember': 298,\n",
              " 'at': 299,\n",
              " 'title': 300,\n",
              " 'mother': 301,\n",
              " 'getting': 302,\n",
              " 'sort': 303,\n",
              " 'came': 304,\n",
              " 'understand': 305,\n",
              " 'case': 306,\n",
              " 'dialogue': 307,\n",
              " 'perhaps': 308,\n",
              " 'flick': 309,\n",
              " 'act': 310,\n",
              " 'wonderful': 311,\n",
              " 'playing': 312,\n",
              " 'care': 313,\n",
              " 'joke': 314,\n",
              " 'after': 315,\n",
              " 'small': 316,\n",
              " 'attempt': 317,\n",
              " 'others': 318,\n",
              " 'perfect': 319,\n",
              " 'sequence': 320,\n",
              " 'early': 321,\n",
              " 'often': 322,\n",
              " 'review': 323,\n",
              " 'fall': 324,\n",
              " 'written': 325,\n",
              " 'definitely': 326,\n",
              " 'drama': 327,\n",
              " 'art': 328,\n",
              " 'actress': 329,\n",
              " 'cinema': 330,\n",
              " 'quality': 331,\n",
              " 'example': 332,\n",
              " 'went': 333,\n",
              " 'finally': 334,\n",
              " 'feeling': 335,\n",
              " 'yes': 336,\n",
              " 'absolutely': 337,\n",
              " 'live': 338,\n",
              " 'killer': 339,\n",
              " 'oh': 340,\n",
              " 'certainly': 341,\n",
              " 'don': 342,\n",
              " 'lost': 343,\n",
              " 'liked': 344,\n",
              " 'become': 345,\n",
              " 'entertaining': 346,\n",
              " 'worse': 347,\n",
              " 'side': 348,\n",
              " 'loved': 349,\n",
              " 'car': 350,\n",
              " 'called': 351,\n",
              " 'waste': 352,\n",
              " 'white': 353,\n",
              " 'mr': 354,\n",
              " 'felt': 355,\n",
              " 'overall': 356,\n",
              " 'matter': 357,\n",
              " 'based': 358,\n",
              " 'entire': 359,\n",
              " 'supposed': 360,\n",
              " 'several': 361,\n",
              " 'direction': 362,\n",
              " 'son': 363,\n",
              " 'his': 364,\n",
              " 'beginning': 365,\n",
              " 'lack': 366,\n",
              " 'feature': 367,\n",
              " 'heart': 368,\n",
              " 'comment': 369,\n",
              " 'favorite': 370,\n",
              " 'dark': 371,\n",
              " 'fight': 372,\n",
              " 'why': 373,\n",
              " 'type': 374,\n",
              " 'then': 375,\n",
              " 'totally': 376,\n",
              " 'begin': 377,\n",
              " 'evil': 378,\n",
              " 'humor': 379,\n",
              " 'wanted': 380,\n",
              " 'murder': 381,\n",
              " 'seemed': 382,\n",
              " 'hero': 383,\n",
              " 'despite': 384,\n",
              " 'guess': 385,\n",
              " 'brother': 386,\n",
              " 'final': 387,\n",
              " 'voice': 388,\n",
              " 'while': 389,\n",
              " 'already': 390,\n",
              " 'change': 391,\n",
              " 'throughout': 392,\n",
              " 'now': 393,\n",
              " 'becomes': 394,\n",
              " 'relationship': 395,\n",
              " 'hit': 396,\n",
              " 'genre': 397,\n",
              " 'unfortunately': 398,\n",
              " 'able': 399,\n",
              " 'number': 400,\n",
              " 'meet': 401,\n",
              " 'history': 402,\n",
              " 'experience': 403,\n",
              " 'b': 404,\n",
              " 'some': 405,\n",
              " 'cut': 406,\n",
              " 'stop': 407,\n",
              " 'town': 408,\n",
              " 'today': 409,\n",
              " 'writing': 410,\n",
              " 'daughter': 411,\n",
              " 'fine': 412,\n",
              " 'michael': 413,\n",
              " 'god': 414,\n",
              " 'horrible': 415,\n",
              " 'close': 416,\n",
              " 'amazing': 417,\n",
              " 'city': 418,\n",
              " 'age': 419,\n",
              " 'group': 420,\n",
              " 'how': 421,\n",
              " 'move': 422,\n",
              " 'talent': 423,\n",
              " 'past': 424,\n",
              " 'call': 425,\n",
              " 'etc': 426,\n",
              " 'stuff': 427,\n",
              " 'enjoyed': 428,\n",
              " 'brilliant': 429,\n",
              " 'behind': 430,\n",
              " 'gave': 431,\n",
              " 'with': 432,\n",
              " 'event': 433,\n",
              " 'directed': 434,\n",
              " 'level': 435,\n",
              " 'late': 436,\n",
              " 'credit': 437,\n",
              " 'add': 438,\n",
              " 'situation': 439,\n",
              " 'theme': 440,\n",
              " 'save': 441,\n",
              " 'expect': 442,\n",
              " 'stand': 443,\n",
              " 'soon': 444,\n",
              " 'wonder': 445,\n",
              " 'power': 446,\n",
              " 'body': 447,\n",
              " 'on': 448,\n",
              " 'obviously': 449,\n",
              " 'score': 450,\n",
              " 'self': 451,\n",
              " 'sometimes': 452,\n",
              " 'chance': 453,\n",
              " 'thinking': 454,\n",
              " 'killed': 455,\n",
              " 'just': 456,\n",
              " 'decent': 457,\n",
              " 'view': 458,\n",
              " 'highly': 459,\n",
              " 'question': 460,\n",
              " 'blood': 461,\n",
              " 'anyway': 462,\n",
              " 'light': 463,\n",
              " 'known': 464,\n",
              " 'took': 465,\n",
              " 'heard': 466,\n",
              " 'happens': 467,\n",
              " 'except': 468,\n",
              " 'coming': 469,\n",
              " 'country': 470,\n",
              " 'wish': 471,\n",
              " 'element': 472,\n",
              " 'slow': 473,\n",
              " 'career': 474,\n",
              " 'documentary': 475,\n",
              " 'talk': 476,\n",
              " 'novel': 477,\n",
              " 'rating': 478,\n",
              " 'leave': 479,\n",
              " 'order': 480,\n",
              " 'police': 481,\n",
              " 'told': 482,\n",
              " 'interest': 483,\n",
              " 'monster': 484,\n",
              " 'extremely': 485,\n",
              " 'husband': 486,\n",
              " 'violence': 487,\n",
              " 'involved': 488,\n",
              " 'reality': 489,\n",
              " 'strong': 490,\n",
              " 'ok': 491,\n",
              " 'hilarious': 492,\n",
              " 'crap': 493,\n",
              " 'effort': 494,\n",
              " 'hell': 495,\n",
              " 'happen': 496,\n",
              " 'living': 497,\n",
              " 'particularly': 498,\n",
              " 'including': 499,\n",
              " 'looked': 500,\n",
              " 'cool': 501,\n",
              " 'opinion': 502,\n",
              " 'david': 503,\n",
              " 'us': 504,\n",
              " 'simple': 505,\n",
              " 'please': 506,\n",
              " 'musical': 507,\n",
              " 'is': 508,\n",
              " 'twist': 509,\n",
              " 'obvious': 510,\n",
              " 'happened': 511,\n",
              " 'complete': 512,\n",
              " 'gore': 513,\n",
              " 'serious': 514,\n",
              " 'sequel': 515,\n",
              " 'james': 516,\n",
              " 'deal': 517,\n",
              " 'room': 518,\n",
              " 'ago': 519,\n",
              " 'theater': 520,\n",
              " 'taken': 521,\n",
              " 'female': 522,\n",
              " 'shown': 523,\n",
              " 'robert': 524,\n",
              " 'english': 525,\n",
              " 'thriller': 526,\n",
              " 'seriously': 527,\n",
              " 'released': 528,\n",
              " 'lady': 529,\n",
              " 'opening': 530,\n",
              " 'value': 531,\n",
              " 'across': 532,\n",
              " 'alone': 533,\n",
              " 'none': 534,\n",
              " 'miss': 535,\n",
              " 'sad': 536,\n",
              " 'possible': 537,\n",
              " 'exactly': 538,\n",
              " 'saying': 539,\n",
              " 'sister': 540,\n",
              " 'cop': 541,\n",
              " 'usually': 542,\n",
              " 'cinematography': 543,\n",
              " 'dialog': 544,\n",
              " 'annoying': 545,\n",
              " 'running': 546,\n",
              " 'dream': 547,\n",
              " 'huge': 548,\n",
              " 'class': 549,\n",
              " 'open': 550,\n",
              " 'whose': 551,\n",
              " 'taking': 552,\n",
              " 'comic': 553,\n",
              " 'ridiculous': 554,\n",
              " 'stay': 555,\n",
              " 'major': 556,\n",
              " 'local': 557,\n",
              " 'middle': 558,\n",
              " 'important': 559,\n",
              " 'four': 560,\n",
              " 'dog': 561,\n",
              " 'started': 562,\n",
              " 'jack': 563,\n",
              " 'message': 564,\n",
              " 'zombie': 565,\n",
              " 'turned': 566,\n",
              " 'producer': 567,\n",
              " 'scary': 568,\n",
              " 'mostly': 569,\n",
              " 'team': 570,\n",
              " 'usual': 571,\n",
              " 'happy': 572,\n",
              " 'beyond': 573,\n",
              " 'silly': 574,\n",
              " 'hate': 575,\n",
              " 'attention': 576,\n",
              " 'somewhat': 577,\n",
              " 'talking': 578,\n",
              " 'knew': 579,\n",
              " 'rock': 580,\n",
              " 'disappointed': 581,\n",
              " 'surprise': 582,\n",
              " 'single': 583,\n",
              " 'strange': 584,\n",
              " 'apparently': 585,\n",
              " 'non': 586,\n",
              " 'television': 587,\n",
              " 'upon': 588,\n",
              " 'modern': 589,\n",
              " 'due': 590,\n",
              " 'basically': 591,\n",
              " 'cheap': 592,\n",
              " 'release': 593,\n",
              " 'figure': 594,\n",
              " 'from': 595,\n",
              " 'mention': 596,\n",
              " 'earth': 597,\n",
              " 'result': 598,\n",
              " 'member': 599,\n",
              " 'king': 600,\n",
              " 'image': 601,\n",
              " 'tale': 602,\n",
              " 'subject': 603,\n",
              " 'street': 604,\n",
              " 'crime': 605,\n",
              " 'clearly': 606,\n",
              " 'space': 607,\n",
              " 'parent': 608,\n",
              " 'ten': 609,\n",
              " 'season': 610,\n",
              " 'five': 611,\n",
              " 'british': 612,\n",
              " 'return': 613,\n",
              " 'drug': 614,\n",
              " 'french': 615,\n",
              " 'moving': 616,\n",
              " 'entertainment': 617,\n",
              " 'filmmaker': 618,\n",
              " 'fast': 619,\n",
              " 'straight': 620,\n",
              " 'mystery': 621,\n",
              " 'soundtrack': 622,\n",
              " 'predictable': 623,\n",
              " 'future': 624,\n",
              " 'die': 625,\n",
              " 'form': 626,\n",
              " 'viewing': 627,\n",
              " 'hold': 628,\n",
              " 'whether': 629,\n",
              " 'villain': 630,\n",
              " 'doubt': 631,\n",
              " 'george': 632,\n",
              " 'gun': 633,\n",
              " 'killing': 634,\n",
              " 'romantic': 635,\n",
              " 'easily': 636,\n",
              " 'enjoyable': 637,\n",
              " 'near': 638,\n",
              " 'appears': 639,\n",
              " 'break': 640,\n",
              " 'buy': 641,\n",
              " 's': 642,\n",
              " 'bring': 643,\n",
              " 'giving': 644,\n",
              " 'aspect': 645,\n",
              " 'similar': 646,\n",
              " 'supporting': 647,\n",
              " 'working': 648,\n",
              " 'clear': 649,\n",
              " 'within': 650,\n",
              " 'filmed': 651,\n",
              " 'showing': 652,\n",
              " 'bunch': 653,\n",
              " 'adult': 654,\n",
              " 'note': 655,\n",
              " 'dull': 656,\n",
              " 'western': 657,\n",
              " 'suspense': 658,\n",
              " 'doctor': 659,\n",
              " 'emotion': 660,\n",
              " 'storyline': 661,\n",
              " 'surprised': 662,\n",
              " 'easy': 663,\n",
              " 'sorry': 664,\n",
              " 'tried': 665,\n",
              " 'certain': 666,\n",
              " 'among': 667,\n",
              " 'setting': 668,\n",
              " 'named': 669,\n",
              " 'dance': 670,\n",
              " 'standard': 671,\n",
              " 'present': 672,\n",
              " 'period': 673,\n",
              " 'gone': 674,\n",
              " 'check': 675,\n",
              " 'force': 676,\n",
              " 'victim': 677,\n",
              " 'soldier': 678,\n",
              " 'general': 679,\n",
              " 'dr': 680,\n",
              " 'student': 681,\n",
              " 'using': 682,\n",
              " 'typical': 683,\n",
              " 'rent': 684,\n",
              " 'an': 685,\n",
              " 'oscar': 686,\n",
              " 'editing': 687,\n",
              " 'avoid': 688,\n",
              " 'th': 689,\n",
              " 'peter': 690,\n",
              " 'material': 691,\n",
              " 'richard': 692,\n",
              " 'fantastic': 693,\n",
              " 'who': 694,\n",
              " 'kept': 695,\n",
              " 'nearly': 696,\n",
              " 'realistic': 697,\n",
              " 'detail': 698,\n",
              " 'cartoon': 699,\n",
              " 'okay': 700,\n",
              " 'battle': 701,\n",
              " 'greatest': 702,\n",
              " 'its': 703,\n",
              " 'red': 704,\n",
              " 'famous': 705,\n",
              " 'animation': 706,\n",
              " 'imagine': 707,\n",
              " 'paul': 708,\n",
              " 'actual': 709,\n",
              " 'follow': 710,\n",
              " 'premise': 711,\n",
              " 'issue': 712,\n",
              " 'mark': 713,\n",
              " 'believable': 714,\n",
              " 'tom': 715,\n",
              " 'box': 716,\n",
              " 'brought': 717,\n",
              " 'wait': 718,\n",
              " 'truth': 719,\n",
              " 'romance': 720,\n",
              " 'somehow': 721,\n",
              " 'forget': 722,\n",
              " 'masterpiece': 723,\n",
              " 'male': 724,\n",
              " 'fit': 725,\n",
              " 'third': 726,\n",
              " 'copy': 727,\n",
              " 'offer': 728,\n",
              " 'most': 729,\n",
              " 'average': 730,\n",
              " 'america': 731,\n",
              " 'weak': 732,\n",
              " 'hear': 733,\n",
              " 'background': 734,\n",
              " 'sit': 735,\n",
              " 'escape': 736,\n",
              " 'pay': 737,\n",
              " 'stage': 738,\n",
              " 'society': 739,\n",
              " 'atmosphere': 740,\n",
              " 'deep': 741,\n",
              " 'york': 742,\n",
              " 'cover': 743,\n",
              " 'o': 744,\n",
              " 'cause': 745,\n",
              " 'fi': 746,\n",
              " 'her': 747,\n",
              " 'eventually': 748,\n",
              " 'gay': 749,\n",
              " 'learn': 750,\n",
              " 'sci': 751,\n",
              " 'imdb': 752,\n",
              " 'whatever': 753,\n",
              " 'expected': 754,\n",
              " 'particular': 755,\n",
              " 'lame': 756,\n",
              " 'indeed': 757,\n",
              " 'de': 758,\n",
              " 'poorly': 759,\n",
              " 'shame': 760,\n",
              " 'these': 761,\n",
              " 'free': 762,\n",
              " 'hot': 763,\n",
              " 'rate': 764,\n",
              " 'baby': 765,\n",
              " 'crew': 766,\n",
              " 'choice': 767,\n",
              " 'walk': 768,\n",
              " 'state': 769,\n",
              " 'by': 770,\n",
              " 'secret': 771,\n",
              " 'decided': 772,\n",
              " 'leaf': 773,\n",
              " 'party': 774,\n",
              " 'screenplay': 775,\n",
              " 'reading': 776,\n",
              " 'fire': 777,\n",
              " 'air': 778,\n",
              " 'difficult': 779,\n",
              " 'lee': 780,\n",
              " 'week': 781,\n",
              " 'needed': 782,\n",
              " 'beauty': 783,\n",
              " 'girlfriend': 784,\n",
              " 'footage': 785,\n",
              " 'focus': 786,\n",
              " 'acted': 787,\n",
              " 'unless': 788,\n",
              " 'emotional': 789,\n",
              " 'possibly': 790,\n",
              " 'island': 791,\n",
              " 'here': 792,\n",
              " 'sexual': 793,\n",
              " 'write': 794,\n",
              " 'accent': 795,\n",
              " 'alien': 796,\n",
              " 'forced': 797,\n",
              " 'became': 798,\n",
              " 'memorable': 799,\n",
              " 'e': 800,\n",
              " 'vampire': 801,\n",
              " 'd': 802,\n",
              " 'do': 803,\n",
              " 'otherwise': 804,\n",
              " 'nature': 805,\n",
              " 'forward': 806,\n",
              " 'plus': 807,\n",
              " 'match': 808,\n",
              " 'very': 809,\n",
              " 'touch': 810,\n",
              " 'lover': 811,\n",
              " 'bill': 812,\n",
              " 'cheesy': 813,\n",
              " 'location': 814,\n",
              " 'water': 815,\n",
              " 'or': 816,\n",
              " 'superb': 817,\n",
              " 'fantasy': 818,\n",
              " 'inside': 819,\n",
              " 'interested': 820,\n",
              " 'development': 821,\n",
              " 'perfectly': 822,\n",
              " 'animal': 823,\n",
              " 'weird': 824,\n",
              " 'previous': 825,\n",
              " 'badly': 826,\n",
              " 'adventure': 827,\n",
              " 'japanese': 828,\n",
              " 'mess': 829,\n",
              " 'crazy': 830,\n",
              " 'personal': 831,\n",
              " 't': 832,\n",
              " 'pick': 833,\n",
              " 'quickly': 834,\n",
              " 'total': 835,\n",
              " 'maker': 836,\n",
              " 'business': 837,\n",
              " 'towards': 838,\n",
              " 'disney': 839,\n",
              " 'spoiler': 840,\n",
              " 'front': 841,\n",
              " 'plan': 842,\n",
              " 'win': 843,\n",
              " 'company': 844,\n",
              " 'remake': 845,\n",
              " 'joe': 846,\n",
              " 'rich': 847,\n",
              " 'cry': 848,\n",
              " 'worked': 849,\n",
              " 'earlier': 850,\n",
              " 'incredibly': 851,\n",
              " 'shoot': 852,\n",
              " 'teen': 853,\n",
              " 'fear': 854,\n",
              " 'dumb': 855,\n",
              " 'studio': 856,\n",
              " 'brain': 857,\n",
              " 'unique': 858,\n",
              " 'realize': 859,\n",
              " 'project': 860,\n",
              " 'powerful': 861,\n",
              " 'list': 862,\n",
              " 'dramatic': 863,\n",
              " 'older': 864,\n",
              " 'era': 865,\n",
              " 'following': 866,\n",
              " 'success': 867,\n",
              " 'plenty': 868,\n",
              " 'directing': 869,\n",
              " 'amount': 870,\n",
              " 'ask': 871,\n",
              " 'creepy': 872,\n",
              " 'various': 873,\n",
              " 'cat': 874,\n",
              " 'appear': 875,\n",
              " 'term': 876,\n",
              " 'brings': 877,\n",
              " 'band': 878,\n",
              " 'century': 879,\n",
              " 'costume': 880,\n",
              " 'admit': 881,\n",
              " 'political': 882,\n",
              " 'apart': 883,\n",
              " 'store': 884,\n",
              " 'leading': 885,\n",
              " 'fairly': 886,\n",
              " 'memory': 887,\n",
              " 'portrayed': 888,\n",
              " 'spent': 889,\n",
              " 'wood': 890,\n",
              " 'co': 891,\n",
              " 'telling': 892,\n",
              " 'law': 893,\n",
              " 'trouble': 894,\n",
              " 'outside': 895,\n",
              " 'train': 896,\n",
              " 'fighting': 897,\n",
              " 'wasted': 898,\n",
              " 'william': 899,\n",
              " 'fails': 900,\n",
              " 'deserves': 901,\n",
              " 'portrayal': 902,\n",
              " 'throw': 903,\n",
              " 'chase': 904,\n",
              " 'c': 905,\n",
              " 'office': 906,\n",
              " 'meant': 907,\n",
              " 'concept': 908,\n",
              " 'drive': 909,\n",
              " 'creature': 910,\n",
              " 'create': 911,\n",
              " 'plain': 912,\n",
              " 'expecting': 913,\n",
              " 'missing': 914,\n",
              " 'ability': 915,\n",
              " 'spirit': 916,\n",
              " 'ended': 917,\n",
              " 'german': 918,\n",
              " 'manages': 919,\n",
              " 'language': 920,\n",
              " 'mistake': 921,\n",
              " 'agree': 922,\n",
              " 'cute': 923,\n",
              " 'player': 924,\n",
              " 'appearance': 925,\n",
              " 'stick': 926,\n",
              " 'recently': 927,\n",
              " 'channel': 928,\n",
              " 'attack': 929,\n",
              " 'talented': 930,\n",
              " 'caught': 931,\n",
              " 'odd': 932,\n",
              " 'large': 933,\n",
              " 'unlike': 934,\n",
              " 'depth': 935,\n",
              " 'hardly': 936,\n",
              " 'produced': 937,\n",
              " 'pace': 938,\n",
              " 'clever': 939,\n",
              " 'laughing': 940,\n",
              " 'italian': 941,\n",
              " 'award': 942,\n",
              " 'nudity': 943,\n",
              " 'public': 944,\n",
              " 'flat': 945,\n",
              " 'potential': 946,\n",
              " 'tension': 947,\n",
              " 'casting': 948,\n",
              " 'culture': 949,\n",
              " 'created': 950,\n",
              " 'color': 951,\n",
              " 'ghost': 952,\n",
              " 'missed': 953,\n",
              " 'pull': 954,\n",
              " 'master': 955,\n",
              " 'married': 956,\n",
              " 'wrote': 957,\n",
              " 'hole': 958,\n",
              " 'pure': 959,\n",
              " 'soul': 960,\n",
              " 'waiting': 961,\n",
              " 'control': 962,\n",
              " 'door': 963,\n",
              " 'van': 964,\n",
              " 'blue': 965,\n",
              " 'filled': 966,\n",
              " 'scott': 967,\n",
              " 'cold': 968,\n",
              " 'science': 969,\n",
              " 'respect': 970,\n",
              " 'incredible': 971,\n",
              " 'mentioned': 972,\n",
              " 'sadly': 973,\n",
              " 'visual': 974,\n",
              " 'familiar': 975,\n",
              " 'slightly': 976,\n",
              " 'speak': 977,\n",
              " 'considering': 978,\n",
              " 'died': 979,\n",
              " 'only': 980,\n",
              " 'sweet': 981,\n",
              " 'hair': 982,\n",
              " 'popular': 983,\n",
              " 'answer': 984,\n",
              " 'catch': 985,\n",
              " 'purpose': 986,\n",
              " 'post': 987,\n",
              " 'million': 988,\n",
              " 'la': 989,\n",
              " 'extra': 990,\n",
              " 'anti': 991,\n",
              " 'meaning': 992,\n",
              " 'gang': 993,\n",
              " 'decides': 994,\n",
              " 'social': 995,\n",
              " 'convincing': 996,\n",
              " 'college': 997,\n",
              " 'jane': 998,\n",
              " 'track': 999,\n",
              " 'taste': 1000,\n",
              " ...}"
            ]
          },
          "metadata": {},
          "execution_count": 8
        }
      ]
    },
    {
      "cell_type": "markdown",
      "source": [
        "## [리뷰 인코딩]"
      ],
      "metadata": {
        "id": "ECsMdwWkOJz4"
      }
    },
    {
      "cell_type": "code",
      "source": [
        "reviews_enc = [[word2int[word] for word in review.split()] for review in tqdm(reviews)]"
      ],
      "metadata": {
        "colab": {
          "base_uri": "https://localhost:8080/"
        },
        "id": "uZur9Re2Mq3-",
        "outputId": "20930f88-a0a1-4789-9b70-d7e24f8855a9"
      },
      "execution_count": null,
      "outputs": [
        {
          "output_type": "stream",
          "name": "stderr",
          "text": [
            "100%|██████████| 50000/50000 [00:01<00:00, 30475.75it/s]\n"
          ]
        }
      ]
    },
    {
      "cell_type": "code",
      "source": [
        "reviews_enc[0][:10]"
      ],
      "metadata": {
        "colab": {
          "base_uri": "https://localhost:8080/"
        },
        "id": "iDFsR8_TMq83",
        "outputId": "19670120-7bcf-4741-cc37-ca8f059e4dcd"
      },
      "execution_count": null,
      "outputs": [
        {
          "output_type": "execute_result",
          "data": {
            "text/plain": [
              "[5, 1095, 972, 74, 2893, 186, 2982, 119, 114, 538]"
            ]
          },
          "metadata": {},
          "execution_count": 10
        }
      ]
    },
    {
      "cell_type": "code",
      "source": [
        "data['processed'][0]"
      ],
      "metadata": {
        "colab": {
          "base_uri": "https://localhost:8080/",
          "height": 148
        },
        "id": "0cOvsU8pMq_n",
        "outputId": "ad0fed5a-50e3-41ca-be20-4a01f867193d"
      },
      "execution_count": null,
      "outputs": [
        {
          "output_type": "execute_result",
          "data": {
            "text/plain": [
              "'one reviewer mentioned watching oz episode hooked  they right  exactly happened  the first thing struck oz brutality unflinching scene violence  set right word go  trust  show faint hearted timid  this show pull punch regard drug  sex violence  its hardcore  classic use word  it called oz nickname given oswald maximum security state penitentary  it focus mainly emerald city  experimental section prison cell glass front face inwards  privacy high agenda  em city home many   aryans  muslims  gangsta  latinos  christians  italians  irish     scuffle  death stare  dodgy dealing shady agreement never far away  i would say main appeal show due fact go show dare  forget pretty picture painted mainstream audience  forget charm  forget romance    oz mess around  the first episode i ever saw struck nasty surreal  i say i ready  i watched  i developed taste oz  got accustomed high level graphic violence  not violence  injustice crooked guard sold nickel  inmate kill order get away  well mannered  middle class inmate turned prison bitch due lack street skill prison experience watching oz  may become comfortable uncomfortable viewing     thats get touch darker side '"
            ],
            "application/vnd.google.colaboratory.intrinsic+json": {
              "type": "string"
            }
          },
          "metadata": {},
          "execution_count": 11
        }
      ]
    },
    {
      "cell_type": "code",
      "source": [
        "word2int['one'], word2int['reviewer'], word2int['mentioned']"
      ],
      "metadata": {
        "colab": {
          "base_uri": "https://localhost:8080/"
        },
        "id": "BMMqu8U2MrCW",
        "outputId": "59886384-44ba-4137-b1e1-c590d01d3fd3"
      },
      "execution_count": null,
      "outputs": [
        {
          "output_type": "execute_result",
          "data": {
            "text/plain": [
              "(5, 1095, 972)"
            ]
          },
          "metadata": {},
          "execution_count": 12
        }
      ]
    },
    {
      "cell_type": "code",
      "source": [
        "data['encoded'] = reviews_enc"
      ],
      "metadata": {
        "id": "H3WBCglHQls3"
      },
      "execution_count": null,
      "outputs": []
    },
    {
      "cell_type": "markdown",
      "source": [
        "## [길이 맞춰주기]"
      ],
      "metadata": {
        "id": "-2PMF-WIQuyV"
      }
    },
    {
      "cell_type": "code",
      "source": [
        "def pad_features(reviews, pad_id, seq_length=128):\n",
        "    features = np.full((len(reviews), seq_length), pad_id, dtype=int)  \n",
        "\n",
        "    for i, row in enumerate(reviews):\n",
        "        # if seq_length < len(row) then review will be trimmed\n",
        "        features[i, :len(row)] = np.array(row)[:seq_length]\n",
        "\n",
        "    return features\n",
        "\n",
        "seq_length = 256\n",
        "features = pad_features(reviews_enc, pad_id=word2int['<PAD>'], seq_length=seq_length) #256길이 만큼\n",
        "\n",
        "#assert : True면 아무런 출력x\n",
        "assert len(features) == len(reviews_enc)\n",
        "assert len(features[0]) == seq_length"
      ],
      "metadata": {
        "id": "OYYHX2zMQlvM"
      },
      "execution_count": null,
      "outputs": []
    },
    {
      "cell_type": "code",
      "source": [
        "labels = data['label'].to_numpy()\n",
        "labels"
      ],
      "metadata": {
        "colab": {
          "base_uri": "https://localhost:8080/"
        },
        "id": "Dk5VKoAeSXBL",
        "outputId": "f4993841-34d1-4f28-93c1-e1713c7533c2"
      },
      "execution_count": null,
      "outputs": [
        {
          "output_type": "execute_result",
          "data": {
            "text/plain": [
              "array([1, 1, 1, ..., 0, 0, 0])"
            ]
          },
          "metadata": {},
          "execution_count": 15
        }
      ]
    },
    {
      "cell_type": "markdown",
      "source": [
        "## [데이터 분할]"
      ],
      "metadata": {
        "id": "vLYFzHTyRFtc"
      }
    },
    {
      "cell_type": "code",
      "source": [
        "# train test split\n",
        "train_size = .8\n",
        "split_id = int(len(features) * train_size)\n",
        "train_x, test_x, train_y, test_y = features[:split_id], features[split_id:], labels[:split_id], labels[split_id:]\n",
        "\n",
        "#train data안에서 train, valid split\n",
        "split_id = int(len(train_x) * train_size)\n",
        "train_x, valid_x, train_y, valid_y = train_x[:split_id], train_x[split_id:], train_y[:split_id], train_y[split_id:]\n",
        "print('Train shape:{}, Valid shape: {}, Test shape: {}'.format(train_x.shape, valid_x.shape, test_x.shape))\n",
        "print('Train shape:{}, Valid shape: {}, Test shape: {}'.format(train_y.shape, valid_y.shape, test_y.shape))"
      ],
      "metadata": {
        "colab": {
          "base_uri": "https://localhost:8080/"
        },
        "id": "7Cd_089AQlxd",
        "outputId": "95f70168-f4d3-4ab4-df84-213665a1e47a"
      },
      "execution_count": null,
      "outputs": [
        {
          "output_type": "stream",
          "name": "stdout",
          "text": [
            "Train shape:(32000, 256), Valid shape: (8000, 256), Test shape: (10000, 256)\n",
            "Train shape:(32000,), Valid shape: (8000,), Test shape: (10000,)\n"
          ]
        }
      ]
    },
    {
      "cell_type": "markdown",
      "source": [
        "## [Step2] Create DataLoader"
      ],
      "metadata": {
        "id": "iF891JcfUVyK"
      }
    },
    {
      "cell_type": "code",
      "source": [
        "# set hyperparameter\n",
        "device = torch.device('cuda' if torch.cuda.is_available() else 'cpu')\n",
        "print(device)\n",
        "\n",
        "lr = 0.001\n",
        "batch_size = 128\n",
        "vocab_size = len(word2int)\n",
        "embedding_size = 256\n",
        "dropout=0.25\n",
        "\n",
        "epochs = 8\n",
        "history = {\n",
        "    'train_loss': [],\n",
        "    'train_acc': [],\n",
        "    'val_loss': [],\n",
        "    'val_acc': [],\n",
        "    'epochs': epochs\n",
        "}\n",
        "es_limit = 5"
      ],
      "metadata": {
        "colab": {
          "base_uri": "https://localhost:8080/"
        },
        "id": "o5gKGQzpQlzv",
        "outputId": "bd03c3e1-71ed-4a49-f24a-fd5e0b610b76"
      },
      "execution_count": null,
      "outputs": [
        {
          "output_type": "stream",
          "name": "stdout",
          "text": [
            "cuda\n"
          ]
        }
      ]
    },
    {
      "cell_type": "code",
      "source": [
        "trainset = TensorDataset(torch.from_numpy(train_x), torch.from_numpy(train_y))\n",
        "validset = TensorDataset(torch.from_numpy(valid_x), torch.from_numpy(valid_y))\n",
        "testset = TensorDataset(torch.from_numpy(test_x), torch.from_numpy(test_y))\n",
        "\n",
        "trainloader = DataLoader(trainset, shuffle=True, batch_size=batch_size)\n",
        "valloader = DataLoader(validset, shuffle=True, batch_size=batch_size)\n",
        "testloader = DataLoader(testset, shuffle=True, batch_size=batch_size)"
      ],
      "metadata": {
        "id": "PM-gmaAXQl1-"
      },
      "execution_count": null,
      "outputs": []
    },
    {
      "cell_type": "markdown",
      "source": [
        "### [Step3] Set Network Structure"
      ],
      "metadata": {
        "id": "xFOAcmGsliHJ"
      }
    },
    {
      "cell_type": "code",
      "source": [
        "class LSTMClassifier(nn.Module):\n",
        "    def __init__(self, vocab_size, embedding_size=400):\n",
        "        super(LSTMClassifier, self).__init__()\n",
        "        self.embedding = nn.Embedding(vocab_size, embedding_size)\n",
        "        self.lstm = nn.LSTM(embedding_size, 512, 2, dropout=0.25, batch_first=True)\n",
        "        self.dropout = nn.Dropout(0.3)\n",
        "        self.fc = nn.Linear(512, 1)\n",
        "        self.sigmoid = nn.Sigmoid()\n",
        "\n",
        "    def forward(self, x):\n",
        "        x = x.long()\n",
        "        x = self.embedding(x)\n",
        "        o, _ =  self.lstm(x)\n",
        "        o = o[:, -1, :]\n",
        "        o = self.dropout(o)\n",
        "        o = self.fc(o)\n",
        "        o = self.sigmoid(o)\n",
        "\n",
        "        return o"
      ],
      "metadata": {
        "id": "EKxp4DjzlZzO"
      },
      "execution_count": null,
      "outputs": []
    },
    {
      "cell_type": "markdown",
      "source": [
        "## [Step4] Create Model instance"
      ],
      "metadata": {
        "id": "FAVWQwlZnlp5"
      }
    },
    {
      "cell_type": "code",
      "source": [
        "model = LSTMClassifier(vocab_size, embedding_size).to(device)\n",
        "print(model)"
      ],
      "metadata": {
        "colab": {
          "base_uri": "https://localhost:8080/"
        },
        "id": "wY_MEIp8nocn",
        "outputId": "de73bfbb-33bb-4da9-8823-aba2ae12208e"
      },
      "execution_count": null,
      "outputs": [
        {
          "output_type": "stream",
          "name": "stdout",
          "text": [
            "LSTMClassifier(\n",
            "  (embedding): Embedding(96140, 256)\n",
            "  (lstm): LSTM(256, 512, num_layers=2, batch_first=True, dropout=0.25)\n",
            "  (dropout): Dropout(p=0.3, inplace=False)\n",
            "  (fc): Linear(in_features=512, out_features=1, bias=True)\n",
            "  (sigmoid): Sigmoid()\n",
            ")\n"
          ]
        }
      ]
    },
    {
      "cell_type": "markdown",
      "source": [
        "### [Step5] Model compile"
      ],
      "metadata": {
        "id": "Vdqih4W7n0yW"
      }
    },
    {
      "cell_type": "code",
      "source": [
        "criterion = nn.BCELoss()\n",
        "optim = Adam(model.parameters(), lr=lr)"
      ],
      "metadata": {
        "id": "ip7RNv7AnzWV"
      },
      "execution_count": null,
      "outputs": []
    },
    {
      "cell_type": "markdown",
      "source": [
        "### [Step6] Set train loop"
      ],
      "metadata": {
        "id": "e5FS-pBYoDHW"
      }
    },
    {
      "cell_type": "code",
      "source": [
        "def train(model, trainloader):\n",
        "    model.train()\n",
        "\n",
        "    train_loss = 0\n",
        "    train_acc = 0\n",
        "\n",
        "    for id, (X, y) in enumerate(trainloader):\n",
        "        X, y = X.to(device), y.to(device)        \n",
        "        optim.zero_grad()\n",
        "        y_pred = model(X)\n",
        "        loss = criterion(y_pred.squeeze(), y.float())\n",
        "        loss.backward()\n",
        "        optim.step()\n",
        "\n",
        "        train_loss += loss.item()\n",
        "        y_pred = torch.tensor([1 if i == True else 0 for i in y_pred > 0.5], device=device)\n",
        "        equals = y_pred == y\n",
        "        acc = torch.mean(equals.type(torch.FloatTensor))\n",
        "        train_acc += acc.item()\n",
        "\n",
        "    history['train_loss'].append(train_loss / len(trainloader))\n",
        "    history['train_acc'].append(train_acc / len(trainloader))\n",
        "\n",
        "    return train_loss, train_acc"
      ],
      "metadata": {
        "id": "u6spfeyMoCGN"
      },
      "execution_count": null,
      "outputs": []
    },
    {
      "cell_type": "markdown",
      "source": [
        "## [Step7] Set test loop"
      ],
      "metadata": {
        "id": "gcmqavxRcJm9"
      }
    },
    {
      "cell_type": "code",
      "source": [
        "def validation(model, valloader):\n",
        "    model.eval()\n",
        "\n",
        "    val_loss = 0\n",
        "    val_acc = 0\n",
        "\n",
        "    with torch.no_grad():\n",
        "        for id, (X, y) in enumerate(valloader):            \n",
        "            X, y = X.to(device), y.to(device)\n",
        "            y_pred = model(X)\n",
        "            loss = criterion(y_pred.squeeze(), y.float())\n",
        "            \n",
        "            val_loss += loss.item()\n",
        "            \n",
        "            y_pred = torch.tensor([1 if i == True else 0 for i in y_pred > 0.5], device=device)\n",
        "            equals = y_pred == y\n",
        "            acc = torch.mean(equals.type(torch.FloatTensor))\n",
        "            val_acc += acc.item()\n",
        "\n",
        "        history['val_loss'].append(val_loss / len(valloader))\n",
        "        history['val_acc'].append(val_acc / len(valloader))\n",
        "\n",
        "    return val_loss, val_acc"
      ],
      "metadata": {
        "id": "2PTv_vZhcI1t"
      },
      "execution_count": null,
      "outputs": []
    },
    {
      "cell_type": "markdown",
      "source": [
        "## [Step8] Run model"
      ],
      "metadata": {
        "id": "tl9OhHojcP5u"
      }
    },
    {
      "cell_type": "code",
      "source": [
        "# train loop\n",
        "epochloop = tqdm(range(epochs), desc='Training')\n",
        "\n",
        "# early stop trigger\n",
        "es_trigger = 0\n",
        "val_loss_min = torch.inf\n",
        "\n",
        "for e in epochloop:\n",
        "    train_loss, train_acc = train(model, trainloader)\n",
        "    val_loss, val_acc = validation(model, valloader)\n",
        "    epochloop.write(f'Epoch[{e+1}/{epochs}] Train Loss: {train_loss / len(trainloader):.3f}, Train Acc: {train_acc / len(trainloader):.3f}, Val Loss: {val_loss / len(valloader):.3f}, Val Acc: {val_acc / len(valloader):.3f}')\n",
        "\n",
        "    # save model if validation loss decrease\n",
        "    if val_loss / len(valloader) <= val_loss_min:\n",
        "        torch.save(model.state_dict(), './sentiment_lstm.pt')\n",
        "        val_loss_min = val_loss / len(valloader)\n",
        "        es_trigger = 0\n",
        "    else:       \n",
        "        es_trigger += 1\n",
        "\n",
        "    # early stop\n",
        "    if es_trigger >= es_limit:\n",
        "        epochloop.write(f'Early stopped at Epoch-{e+1}')\n",
        "        history['epochs'] = e+1\n",
        "        break"
      ],
      "metadata": {
        "id": "9Y8YuEkNXMWc",
        "colab": {
          "base_uri": "https://localhost:8080/"
        },
        "outputId": "4ee408b2-b867-40ba-ae10-f0568fca87a3"
      },
      "execution_count": null,
      "outputs": [
        {
          "output_type": "stream",
          "name": "stderr",
          "text": [
            "Training:   0%|          | 0/8 [01:05<?, ?it/s]"
          ]
        },
        {
          "output_type": "stream",
          "name": "stdout",
          "text": [
            "Epoch[1/8] Train Loss: 0.694, Train Acc: 0.503, Val Loss: 0.693, Val Acc: 0.513\n"
          ]
        },
        {
          "output_type": "stream",
          "name": "stderr",
          "text": [
            "Training:  25%|██▌       | 2/8 [02:12<06:36, 66.14s/it]"
          ]
        },
        {
          "output_type": "stream",
          "name": "stdout",
          "text": [
            "Epoch[2/8] Train Loss: 0.693, Train Acc: 0.503, Val Loss: 0.693, Val Acc: 0.513\n"
          ]
        },
        {
          "output_type": "stream",
          "name": "stderr",
          "text": [
            "Training:  25%|██▌       | 2/8 [03:18<06:36, 66.14s/it]"
          ]
        },
        {
          "output_type": "stream",
          "name": "stdout",
          "text": [
            "Epoch[3/8] Train Loss: 0.694, Train Acc: 0.499, Val Loss: 0.692, Val Acc: 0.516\n"
          ]
        },
        {
          "output_type": "stream",
          "name": "stderr",
          "text": [
            "Training:  50%|█████     | 4/8 [04:23<04:23, 65.79s/it]"
          ]
        },
        {
          "output_type": "stream",
          "name": "stdout",
          "text": [
            "Epoch[4/8] Train Loss: 0.693, Train Acc: 0.507, Val Loss: 0.692, Val Acc: 0.506\n"
          ]
        },
        {
          "output_type": "stream",
          "name": "stderr",
          "text": [
            "Training:  62%|██████▎   | 5/8 [05:29<03:17, 65.71s/it]"
          ]
        },
        {
          "output_type": "stream",
          "name": "stdout",
          "text": [
            "Epoch[5/8] Train Loss: 0.692, Train Acc: 0.507, Val Loss: 0.693, Val Acc: 0.499\n"
          ]
        },
        {
          "output_type": "stream",
          "name": "stderr",
          "text": [
            "Training:  75%|███████▌  | 6/8 [06:35<02:11, 65.65s/it]"
          ]
        },
        {
          "output_type": "stream",
          "name": "stdout",
          "text": [
            "Epoch[6/8] Train Loss: 0.685, Train Acc: 0.518, Val Loss: 0.696, Val Acc: 0.497\n"
          ]
        },
        {
          "output_type": "stream",
          "name": "stderr",
          "text": [
            "Training:  88%|████████▊ | 7/8 [07:40<01:05, 65.64s/it]"
          ]
        },
        {
          "output_type": "stream",
          "name": "stdout",
          "text": [
            "Epoch[7/8] Train Loss: 0.666, Train Acc: 0.531, Val Loss: 0.715, Val Acc: 0.512\n"
          ]
        },
        {
          "output_type": "stream",
          "name": "stderr",
          "text": [
            "Training:  88%|████████▊ | 7/8 [08:46<01:05, 65.64s/it]"
          ]
        },
        {
          "output_type": "stream",
          "name": "stdout",
          "text": [
            "Epoch[8/8] Train Loss: 0.643, Train Acc: 0.555, Val Loss: 0.647, Val Acc: 0.683\n"
          ]
        },
        {
          "output_type": "stream",
          "name": "stderr",
          "text": [
            "Training: 100%|██████████| 8/8 [08:46<00:00, 65.83s/it]\n"
          ]
        }
      ]
    },
    {
      "cell_type": "code",
      "source": [
        "# plot acc\n",
        "plt.figure(figsize=(6, 4))\n",
        "plt.plot(range(history['epochs']), history['train_acc'], label='Train Acc')\n",
        "plt.plot(range(history['epochs']), history['val_acc'], label='Val Acc')\n",
        "plt.legend()\n",
        "plt.show()"
      ],
      "metadata": {
        "colab": {
          "base_uri": "https://localhost:8080/",
          "height": 368
        },
        "id": "wivpgHgmdFmF",
        "outputId": "161450e8-9f87-4c20-876f-ffcf64559a86"
      },
      "execution_count": null,
      "outputs": [
        {
          "output_type": "display_data",
          "data": {
            "text/plain": [
              "<Figure size 600x400 with 1 Axes>"
            ],
            "image/png": "[encoded data removed]"
          },
          "metadata": {}
        }
      ]
    },
    {
      "cell_type": "code",
      "source": [
        "# plot loss\n",
        "plt.figure(figsize=(6, 4))\n",
        "plt.plot(range(history['epochs']), history['train_loss'], label='Train Loss')\n",
        "plt.plot(range(history['epochs']), history['val_loss'], label='Val Loss')\n",
        "plt.legend()\n",
        "plt.show()"
      ],
      "metadata": {
        "id": "el4GpkRXdFp2",
        "colab": {
          "base_uri": "https://localhost:8080/",
          "height": 368
        },
        "outputId": "d1405043-e5f8-4bf1-ba52-794540f5ad4f"
      },
      "execution_count": null,
      "outputs": [
        {
          "output_type": "display_data",
          "data": {
            "text/plain": [
              "<Figure size 600x400 with 1 Axes>"
            ],
            "image/png": "[encoded data removed]"
          },
          "metadata": {}
        }
      ]
    },
    {
      "cell_type": "code",
      "source": [],
      "metadata": {
        "id": "zlApBik0gYBk"
      },
      "execution_count": null,
      "outputs": []
    },
    {
      "cell_type": "code",
      "source": [
        "#문장예측부분 "
      ],
      "metadata": {
        "id": "eu_FmLf_gYD8"
      },
      "execution_count": null,
      "outputs": []
    },
    {
      "cell_type": "code",
      "source": [
        "import re\n",
        "new_input = 'The movie is so sad.'\n",
        "sentence = re.sub(r\"[^a-zA-Z ]\",'', new_input)#특수문자 제거\n",
        "sentence"
      ],
      "metadata": {
        "id": "xIc4Jqc86fjZ",
        "colab": {
          "base_uri": "https://localhost:8080/",
          "height": 36
        },
        "outputId": "580be6dc-bb75-4775-b7af-21f25b9d8d71"
      },
      "execution_count": null,
      "outputs": [
        {
          "output_type": "execute_result",
          "data": {
            "text/plain": [
              "'The movie is so sad'"
            ],
            "application/vnd.google.colaboratory.intrinsic+json": {
              "type": "string"
            }
          },
          "metadata": {},
          "execution_count": 57
        }
      ]
    },
    {
      "cell_type": "code",
      "source": [
        "#토큰화\n",
        "words = input_data.split()\n",
        "words"
      ],
      "metadata": {
        "colab": {
          "base_uri": "https://localhost:8080/"
        },
        "id": "GNSOLadPahI5",
        "outputId": "84283f78-1b3e-486c-c9d4-c13cf72bb86f"
      },
      "execution_count": null,
      "outputs": [
        {
          "output_type": "execute_result",
          "data": {
            "text/plain": [
              "['the', 'movie', 'is', 'so', 'sad.']"
            ]
          },
          "metadata": {},
          "execution_count": 53
        }
      ]
    },
    {
      "cell_type": "code",
      "source": [
        "word2int['the'], word2int['movie'], word2int['is']"
      ],
      "metadata": {
        "colab": {
          "base_uri": "https://localhost:8080/"
        },
        "id": "EcVKxlIFbPhl",
        "outputId": "8bbfe2ac-3539-4998-fe74-05942318c2e8"
      },
      "execution_count": null,
      "outputs": [
        {
          "output_type": "execute_result",
          "data": {
            "text/plain": [
              "(4, 2, 508)"
            ]
          },
          "metadata": {},
          "execution_count": 43
        }
      ]
    },
    {
      "cell_type": "code",
      "source": [
        "#리뷰 인코딩\n",
        "reviews_enc = [word2int[word] for word in words]\n",
        "reviews_enc"
      ],
      "metadata": {
        "colab": {
          "base_uri": "https://localhost:8080/"
        },
        "id": "yeh2lWnSbPkO",
        "outputId": "29bf854b-0aa6-4f6e-90b4-18cfcaf16368"
      },
      "execution_count": null,
      "outputs": [
        {
          "output_type": "execute_result",
          "data": {
            "text/plain": [
              "[4, 2, 508, 155, 536]"
            ]
          },
          "metadata": {},
          "execution_count": 44
        }
      ]
    },
    {
      "cell_type": "code",
      "source": [
        "features = pad_features(reviews_enc, pad_id=word2int['<PAD>'], seq_length=10)"
      ],
      "metadata": {
        "colab": {
          "base_uri": "https://localhost:8080/",
          "height": 307
        },
        "id": "oFn-FRhRbPo9",
        "outputId": "24cc325c-ca69-4ef5-9eaa-c25a5d3cec3b"
      },
      "execution_count": null,
      "outputs": [
        {
          "output_type": "error",
          "ename": "IndexError",
          "evalue": "ignored",
          "traceback": [
            "\u001b[0;31m---------------------------------------------------------------------------\u001b[0m",
            "\u001b[0;31mIndexError\u001b[0m                                Traceback (most recent call last)",
            "\u001b[0;32m<ipython-input-47-3fb4218ba095>\u001b[0m in \u001b[0;36m<cell line: 1>\u001b[0;34m()\u001b[0m\n\u001b[0;32m----> 1\u001b[0;31m \u001b[0mfeatures\u001b[0m \u001b[0;34m=\u001b[0m \u001b[0mpad_features\u001b[0m\u001b[0;34m(\u001b[0m\u001b[0mreviews_enc\u001b[0m\u001b[0;34m,\u001b[0m \u001b[0mpad_id\u001b[0m\u001b[0;34m=\u001b[0m\u001b[0mword2int\u001b[0m\u001b[0;34m[\u001b[0m\u001b[0;34m'<PAD>'\u001b[0m\u001b[0;34m]\u001b[0m\u001b[0;34m,\u001b[0m \u001b[0mseq_length\u001b[0m\u001b[0;34m=\u001b[0m\u001b[0;36m10\u001b[0m\u001b[0;34m)\u001b[0m\u001b[0;34m\u001b[0m\u001b[0;34m\u001b[0m\u001b[0m\n\u001b[0m",
            "\u001b[0;32m<ipython-input-15-728288fe5361>\u001b[0m in \u001b[0;36mpad_features\u001b[0;34m(reviews, pad_id, seq_length)\u001b[0m\n\u001b[1;32m      4\u001b[0m     \u001b[0;32mfor\u001b[0m \u001b[0mi\u001b[0m\u001b[0;34m,\u001b[0m \u001b[0mrow\u001b[0m \u001b[0;32min\u001b[0m \u001b[0menumerate\u001b[0m\u001b[0;34m(\u001b[0m\u001b[0mreviews\u001b[0m\u001b[0;34m)\u001b[0m\u001b[0;34m:\u001b[0m\u001b[0;34m\u001b[0m\u001b[0;34m\u001b[0m\u001b[0m\n\u001b[1;32m      5\u001b[0m         \u001b[0;31m# if seq_length < len(row) then review will be trimmed\u001b[0m\u001b[0;34m\u001b[0m\u001b[0;34m\u001b[0m\u001b[0m\n\u001b[0;32m----> 6\u001b[0;31m         \u001b[0mfeatures\u001b[0m\u001b[0;34m[\u001b[0m\u001b[0mi\u001b[0m\u001b[0;34m,\u001b[0m \u001b[0;34m:\u001b[0m\u001b[0mlen\u001b[0m\u001b[0;34m(\u001b[0m\u001b[0mrow\u001b[0m\u001b[0;34m)\u001b[0m\u001b[0;34m]\u001b[0m \u001b[0;34m=\u001b[0m \u001b[0mnp\u001b[0m\u001b[0;34m.\u001b[0m\u001b[0marray\u001b[0m\u001b[0;34m(\u001b[0m\u001b[0mrow\u001b[0m\u001b[0;34m)\u001b[0m\u001b[0;34m[\u001b[0m\u001b[0;34m:\u001b[0m\u001b[0mseq_length\u001b[0m\u001b[0;34m]\u001b[0m\u001b[0;34m\u001b[0m\u001b[0;34m\u001b[0m\u001b[0m\n\u001b[0m\u001b[1;32m      7\u001b[0m \u001b[0;34m\u001b[0m\u001b[0m\n\u001b[1;32m      8\u001b[0m     \u001b[0;32mreturn\u001b[0m \u001b[0mfeatures\u001b[0m\u001b[0;34m\u001b[0m\u001b[0;34m\u001b[0m\u001b[0m\n",
            "\u001b[0;31mIndexError\u001b[0m: too many indices for array: array is 0-dimensional, but 1 were indexed"
          ]
        }
      ]
    },
    {
      "cell_type": "code",
      "source": [],
      "metadata": {
        "id": "8ZRk428qcd_U"
      },
      "execution_count": null,
      "outputs": []
    }
  ]
}