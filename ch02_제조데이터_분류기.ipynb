{
  "nbformat": 4,
  "nbformat_minor": 0,
  "metadata": {
    "colab": {
      "provenance": [],
      "authorship_tag": "ABX9TyOURqYOlL6yfioxelGpGbiA",
      "include_colab_link": true
    },
    "kernelspec": {
      "name": "python3",
      "display_name": "Python 3"
    },
    "language_info": {
      "name": "python"
    }
  },
  "cells": [
    {
      "cell_type": "markdown",
      "metadata": {
        "id": "view-in-github",
        "colab_type": "text"
      },
      "source": [
        "<a href=\"https://colab.research.google.com/github/dmswneunju/DeepLearning_signiture/blob/main/ch02_%EC%A0%9C%EC%A1%B0%EB%8D%B0%EC%9D%B4%ED%84%B0_%EB%B6%84%EB%A5%98%EA%B8%B0.ipynb\" target=\"_parent\"><img src=\"https://colab.research.google.com/assets/colab-badge.svg\" alt=\"Open In Colab\"/></a>"
      ]
    },
    {
      "cell_type": "code",
      "execution_count": null,
      "metadata": {
        "id": "29VYQpN2x1FF",
        "colab": {
          "base_uri": "https://localhost:8080/"
        },
        "outputId": "73e2e7c8-c580-45b7-ba13-48caaa1be83e"
      },
      "outputs": [
        {
          "output_type": "stream",
          "name": "stdout",
          "text": [
            "Mounted at /content/drive\n"
          ]
        }
      ],
      "source": [
        "from google.colab import drive\n",
        "drive.mount('/content/drive')"
      ]
    },
    {
      "cell_type": "code",
      "source": [
        "cd /content/drive/MyDrive/DeepLearning_signiture"
      ],
      "metadata": {
        "colab": {
          "base_uri": "https://localhost:8080/"
        },
        "id": "DFADSM2U1JhF",
        "outputId": "67e8ef1a-06c8-4222-8630-1228dd660a9a"
      },
      "execution_count": null,
      "outputs": [
        {
          "output_type": "stream",
          "name": "stdout",
          "text": [
            "/content/drive/MyDrive/DeepLearning_signiture\n"
          ]
        }
      ]
    },
    {
      "cell_type": "code",
      "source": [
        "pwd"
      ],
      "metadata": {
        "colab": {
          "base_uri": "https://localhost:8080/",
          "height": 36
        },
        "id": "m_L5YwNJaUOU",
        "outputId": "92795c73-a685-4881-8972-454c09014428"
      },
      "execution_count": null,
      "outputs": [
        {
          "output_type": "execute_result",
          "data": {
            "text/plain": [
              "'/content/drive/MyDrive/DeepLearning_signiture'"
            ],
            "application/vnd.google.colaboratory.intrinsic+json": {
              "type": "string"
            }
          },
          "metadata": {},
          "execution_count": 6
        }
      ]
    },
    {
      "cell_type": "markdown",
      "source": [
        "# 머신러닝 기반 classifier"
      ],
      "metadata": {
        "id": "vuHSq-3nlzte"
      }
    },
    {
      "cell_type": "markdown",
      "source": [
        "# 문제정의\n",
        "### binary classifier"
      ],
      "metadata": {
        "id": "SerI9P5f2MDz"
      }
    },
    {
      "cell_type": "code",
      "source": [
        "#라이브럴리 & 데이터 로드\n",
        "import numpy as np\n",
        "import pandas as pd\n",
        "import matplotlib.pyplot as plt\n",
        "import seaborn as sns"
      ],
      "metadata": {
        "id": "tXCxA1P72BUO"
      },
      "execution_count": null,
      "outputs": []
    },
    {
      "cell_type": "code",
      "source": [
        "df = pd.read_csv('./data/exercise1.csv')\n",
        "df"
      ],
      "metadata": {
        "colab": {
          "base_uri": "https://localhost:8080/",
          "height": 423
        },
        "id": "vW7J5x3q2qFz",
        "outputId": "c068b4da-c7f2-4200-fb17-6bb7fab3d36b"
      },
      "execution_count": null,
      "outputs": [
        {
          "output_type": "execute_result",
          "data": {
            "text/plain": [
              "     a1    a2    a3     a4   a5   a6  target\n",
              "0    24  0.29   700  0.013  100  1.4       0\n",
              "1    44  0.47   400  0.012   20  0.6       0\n",
              "2    13  0.21  1000  0.045   40  1.7       0\n",
              "3     8  0.25   400  0.008   60  0.8       0\n",
              "4    38  0.15   700  0.044   40  1.2       0\n",
              "..   ..   ...   ...    ...  ...  ...     ...\n",
              "995  41  0.22   900  0.023   20  1.8       0\n",
              "996  28  0.31   900  0.020  130  2.6       1\n",
              "997  15  0.08  1100  0.045   70  1.9       0\n",
              "998  48  0.39  1200  0.041   50  2.2       0\n",
              "999  37  0.17  1200  0.031  160  0.2       0\n",
              "\n",
              "[1000 rows x 7 columns]"
            ],
            "text/html": [
              "\n",
              "  <div id=\"df-f93aa924-3f2c-4d9e-835d-b45e2051fc73\">\n",
              "    <div class=\"colab-df-container\">\n",
              "      <div>\n",
              "<style scoped>\n",
              "    .dataframe tbody tr th:only-of-type {\n",
              "        vertical-align: middle;\n",
              "    }\n",
              "\n",
              "    .dataframe tbody tr th {\n",
              "        vertical-align: top;\n",
              "    }\n",
              "\n",
              "    .dataframe thead th {\n",
              "        text-align: right;\n",
              "    }\n",
              "</style>\n",
              "<table border=\"1\" class=\"dataframe\">\n",
              "  <thead>\n",
              "    <tr style=\"text-align: right;\">\n",
              "      <th></th>\n",
              "      <th>a1</th>\n",
              "      <th>a2</th>\n",
              "      <th>a3</th>\n",
              "      <th>a4</th>\n",
              "      <th>a5</th>\n",
              "      <th>a6</th>\n",
              "      <th>target</th>\n",
              "    </tr>\n",
              "  </thead>\n",
              "  <tbody>\n",
              "    <tr>\n",
              "      <th>0</th>\n",
              "      <td>24</td>\n",
              "      <td>0.29</td>\n",
              "      <td>700</td>\n",
              "      <td>0.013</td>\n",
              "      <td>100</td>\n",
              "      <td>1.4</td>\n",
              "      <td>0</td>\n",
              "    </tr>\n",
              "    <tr>\n",
              "      <th>1</th>\n",
              "      <td>44</td>\n",
              "      <td>0.47</td>\n",
              "      <td>400</td>\n",
              "      <td>0.012</td>\n",
              "      <td>20</td>\n",
              "      <td>0.6</td>\n",
              "      <td>0</td>\n",
              "    </tr>\n",
              "    <tr>\n",
              "      <th>2</th>\n",
              "      <td>13</td>\n",
              "      <td>0.21</td>\n",
              "      <td>1000</td>\n",
              "      <td>0.045</td>\n",
              "      <td>40</td>\n",
              "      <td>1.7</td>\n",
              "      <td>0</td>\n",
              "    </tr>\n",
              "    <tr>\n",
              "      <th>3</th>\n",
              "      <td>8</td>\n",
              "      <td>0.25</td>\n",
              "      <td>400</td>\n",
              "      <td>0.008</td>\n",
              "      <td>60</td>\n",
              "      <td>0.8</td>\n",
              "      <td>0</td>\n",
              "    </tr>\n",
              "    <tr>\n",
              "      <th>4</th>\n",
              "      <td>38</td>\n",
              "      <td>0.15</td>\n",
              "      <td>700</td>\n",
              "      <td>0.044</td>\n",
              "      <td>40</td>\n",
              "      <td>1.2</td>\n",
              "      <td>0</td>\n",
              "    </tr>\n",
              "    <tr>\n",
              "      <th>...</th>\n",
              "      <td>...</td>\n",
              "      <td>...</td>\n",
              "      <td>...</td>\n",
              "      <td>...</td>\n",
              "      <td>...</td>\n",
              "      <td>...</td>\n",
              "      <td>...</td>\n",
              "    </tr>\n",
              "    <tr>\n",
              "      <th>995</th>\n",
              "      <td>41</td>\n",
              "      <td>0.22</td>\n",
              "      <td>900</td>\n",
              "      <td>0.023</td>\n",
              "      <td>20</td>\n",
              "      <td>1.8</td>\n",
              "      <td>0</td>\n",
              "    </tr>\n",
              "    <tr>\n",
              "      <th>996</th>\n",
              "      <td>28</td>\n",
              "      <td>0.31</td>\n",
              "      <td>900</td>\n",
              "      <td>0.020</td>\n",
              "      <td>130</td>\n",
              "      <td>2.6</td>\n",
              "      <td>1</td>\n",
              "    </tr>\n",
              "    <tr>\n",
              "      <th>997</th>\n",
              "      <td>15</td>\n",
              "      <td>0.08</td>\n",
              "      <td>1100</td>\n",
              "      <td>0.045</td>\n",
              "      <td>70</td>\n",
              "      <td>1.9</td>\n",
              "      <td>0</td>\n",
              "    </tr>\n",
              "    <tr>\n",
              "      <th>998</th>\n",
              "      <td>48</td>\n",
              "      <td>0.39</td>\n",
              "      <td>1200</td>\n",
              "      <td>0.041</td>\n",
              "      <td>50</td>\n",
              "      <td>2.2</td>\n",
              "      <td>0</td>\n",
              "    </tr>\n",
              "    <tr>\n",
              "      <th>999</th>\n",
              "      <td>37</td>\n",
              "      <td>0.17</td>\n",
              "      <td>1200</td>\n",
              "      <td>0.031</td>\n",
              "      <td>160</td>\n",
              "      <td>0.2</td>\n",
              "      <td>0</td>\n",
              "    </tr>\n",
              "  </tbody>\n",
              "</table>\n",
              "<p>1000 rows × 7 columns</p>\n",
              "</div>\n",
              "      <button class=\"colab-df-convert\" onclick=\"convertToInteractive('df-f93aa924-3f2c-4d9e-835d-b45e2051fc73')\"\n",
              "              title=\"Convert this dataframe to an interactive table.\"\n",
              "              style=\"display:none;\">\n",
              "        \n",
              "  <svg xmlns=\"http://www.w3.org/2000/svg\" height=\"24px\"viewBox=\"0 0 24 24\"\n",
              "       width=\"24px\">\n",
              "    <path d=\"M0 0h24v24H0V0z\" fill=\"none\"/>\n",
              "    <path d=\"M18.56 5.44l.94 2.06.94-2.06 2.06-.94-2.06-.94-.94-2.06-.94 2.06-2.06.94zm-11 1L8.5 8.5l.94-2.06 2.06-.94-2.06-.94L8.5 2.5l-.94 2.06-2.06.94zm10 10l.94 2.06.94-2.06 2.06-.94-2.06-.94-.94-2.06-.94 2.06-2.06.94z\"/><path d=\"M17.41 7.96l-1.37-1.37c-.4-.4-.92-.59-1.43-.59-.52 0-1.04.2-1.43.59L10.3 9.45l-7.72 7.72c-.78.78-.78 2.05 0 2.83L4 21.41c.39.39.9.59 1.41.59.51 0 1.02-.2 1.41-.59l7.78-7.78 2.81-2.81c.8-.78.8-2.07 0-2.86zM5.41 20L4 18.59l7.72-7.72 1.47 1.35L5.41 20z\"/>\n",
              "  </svg>\n",
              "      </button>\n",
              "      \n",
              "  <style>\n",
              "    .colab-df-container {\n",
              "      display:flex;\n",
              "      flex-wrap:wrap;\n",
              "      gap: 12px;\n",
              "    }\n",
              "\n",
              "    .colab-df-convert {\n",
              "      background-color: #E8F0FE;\n",
              "      border: none;\n",
              "      border-radius: 50%;\n",
              "      cursor: pointer;\n",
              "      display: none;\n",
              "      fill: #1967D2;\n",
              "      height: 32px;\n",
              "      padding: 0 0 0 0;\n",
              "      width: 32px;\n",
              "    }\n",
              "\n",
              "    .colab-df-convert:hover {\n",
              "      background-color: #E2EBFA;\n",
              "      box-shadow: 0px 1px 2px rgba(60, 64, 67, 0.3), 0px 1px 3px 1px rgba(60, 64, 67, 0.15);\n",
              "      fill: #174EA6;\n",
              "    }\n",
              "\n",
              "    [theme=dark] .colab-df-convert {\n",
              "      background-color: #3B4455;\n",
              "      fill: #D2E3FC;\n",
              "    }\n",
              "\n",
              "    [theme=dark] .colab-df-convert:hover {\n",
              "      background-color: #434B5C;\n",
              "      box-shadow: 0px 1px 3px 1px rgba(0, 0, 0, 0.15);\n",
              "      filter: drop-shadow(0px 1px 2px rgba(0, 0, 0, 0.3));\n",
              "      fill: #FFFFFF;\n",
              "    }\n",
              "  </style>\n",
              "\n",
              "      <script>\n",
              "        const buttonEl =\n",
              "          document.querySelector('#df-f93aa924-3f2c-4d9e-835d-b45e2051fc73 button.colab-df-convert');\n",
              "        buttonEl.style.display =\n",
              "          google.colab.kernel.accessAllowed ? 'block' : 'none';\n",
              "\n",
              "        async function convertToInteractive(key) {\n",
              "          const element = document.querySelector('#df-f93aa924-3f2c-4d9e-835d-b45e2051fc73');\n",
              "          const dataTable =\n",
              "            await google.colab.kernel.invokeFunction('convertToInteractive',\n",
              "                                                     [key], {});\n",
              "          if (!dataTable) return;\n",
              "\n",
              "          const docLinkHtml = 'Like what you see? Visit the ' +\n",
              "            '<a target=\"_blank\" href=https://colab.research.google.com/notebooks/data_table.ipynb>data table notebook</a>'\n",
              "            + ' to learn more about interactive tables.';\n",
              "          element.innerHTML = '';\n",
              "          dataTable['output_type'] = 'display_data';\n",
              "          await google.colab.output.renderOutput(dataTable, element);\n",
              "          const docLink = document.createElement('div');\n",
              "          docLink.innerHTML = docLinkHtml;\n",
              "          element.appendChild(docLink);\n",
              "        }\n",
              "      </script>\n",
              "    </div>\n",
              "  </div>\n",
              "  "
            ]
          },
          "metadata": {},
          "execution_count": 7
        }
      ]
    },
    {
      "cell_type": "code",
      "source": [
        "df['target'].unique()"
      ],
      "metadata": {
        "colab": {
          "base_uri": "https://localhost:8080/"
        },
        "id": "4hVurjDu3NgC",
        "outputId": "744956ad-c736-461e-ad7f-14477b81d339"
      },
      "execution_count": null,
      "outputs": [
        {
          "output_type": "execute_result",
          "data": {
            "text/plain": [
              "array([0, 1])"
            ]
          },
          "metadata": {},
          "execution_count": 8
        }
      ]
    },
    {
      "cell_type": "code",
      "source": [
        "df['target'].value_counts()"
      ],
      "metadata": {
        "colab": {
          "base_uri": "https://localhost:8080/"
        },
        "id": "wtmPF5AS3gyS",
        "outputId": "c22ffb35-36fc-467c-86ae-c05a478ca0d5"
      },
      "execution_count": null,
      "outputs": [
        {
          "output_type": "execute_result",
          "data": {
            "text/plain": [
              "0    588\n",
              "1    412\n",
              "Name: target, dtype: int64"
            ]
          },
          "metadata": {},
          "execution_count": 9
        }
      ]
    },
    {
      "cell_type": "markdown",
      "source": [
        "# 데이터 탐색"
      ],
      "metadata": {
        "id": "xhVkHhxn3uds"
      }
    },
    {
      "cell_type": "code",
      "source": [
        "# 데이터 탐색\n",
        "df.describe()"
      ],
      "metadata": {
        "colab": {
          "base_uri": "https://localhost:8080/",
          "height": 300
        },
        "id": "1nNnYW2V3njq",
        "outputId": "a7409656-7e3a-4ef1-df5a-0fc280ed2ed2"
      },
      "execution_count": null,
      "outputs": [
        {
          "output_type": "execute_result",
          "data": {
            "text/plain": [
              "                a1           a2           a3           a4           a5  \\\n",
              "count  1000.000000  1000.000000  1000.000000  1000.000000  1000.000000   \n",
              "mean     28.821000     0.283240   821.300000     0.027491   117.180000   \n",
              "std      10.502631     0.103347   254.560624     0.010786    45.428089   \n",
              "min       5.000000     0.050000   300.000000     0.005000    20.000000   \n",
              "25%      25.000000     0.240000   700.000000     0.021000    90.000000   \n",
              "50%      29.000000     0.290000   900.000000     0.027000   120.000000   \n",
              "75%      35.000000     0.340000  1000.000000     0.034000   150.000000   \n",
              "max      50.000000     0.500000  1200.000000     0.050000   200.000000   \n",
              "\n",
              "                a6       target  \n",
              "count  1000.000000  1000.000000  \n",
              "mean      1.712600     0.412000  \n",
              "std       0.707079     0.492441  \n",
              "min       0.200000     0.000000  \n",
              "25%       1.300000     0.000000  \n",
              "50%       1.800000     0.000000  \n",
              "75%       2.300000     1.000000  \n",
              "max       2.900000     1.000000  "
            ],
            "text/html": [
              "\n",
              "  <div id=\"df-76053021-2b3a-4d5f-a6f1-a1f9b45bfdf8\">\n",
              "    <div class=\"colab-df-container\">\n",
              "      <div>\n",
              "<style scoped>\n",
              "    .dataframe tbody tr th:only-of-type {\n",
              "        vertical-align: middle;\n",
              "    }\n",
              "\n",
              "    .dataframe tbody tr th {\n",
              "        vertical-align: top;\n",
              "    }\n",
              "\n",
              "    .dataframe thead th {\n",
              "        text-align: right;\n",
              "    }\n",
              "</style>\n",
              "<table border=\"1\" class=\"dataframe\">\n",
              "  <thead>\n",
              "    <tr style=\"text-align: right;\">\n",
              "      <th></th>\n",
              "      <th>a1</th>\n",
              "      <th>a2</th>\n",
              "      <th>a3</th>\n",
              "      <th>a4</th>\n",
              "      <th>a5</th>\n",
              "      <th>a6</th>\n",
              "      <th>target</th>\n",
              "    </tr>\n",
              "  </thead>\n",
              "  <tbody>\n",
              "    <tr>\n",
              "      <th>count</th>\n",
              "      <td>1000.000000</td>\n",
              "      <td>1000.000000</td>\n",
              "      <td>1000.000000</td>\n",
              "      <td>1000.000000</td>\n",
              "      <td>1000.000000</td>\n",
              "      <td>1000.000000</td>\n",
              "      <td>1000.000000</td>\n",
              "    </tr>\n",
              "    <tr>\n",
              "      <th>mean</th>\n",
              "      <td>28.821000</td>\n",
              "      <td>0.283240</td>\n",
              "      <td>821.300000</td>\n",
              "      <td>0.027491</td>\n",
              "      <td>117.180000</td>\n",
              "      <td>1.712600</td>\n",
              "      <td>0.412000</td>\n",
              "    </tr>\n",
              "    <tr>\n",
              "      <th>std</th>\n",
              "      <td>10.502631</td>\n",
              "      <td>0.103347</td>\n",
              "      <td>254.560624</td>\n",
              "      <td>0.010786</td>\n",
              "      <td>45.428089</td>\n",
              "      <td>0.707079</td>\n",
              "      <td>0.492441</td>\n",
              "    </tr>\n",
              "    <tr>\n",
              "      <th>min</th>\n",
              "      <td>5.000000</td>\n",
              "      <td>0.050000</td>\n",
              "      <td>300.000000</td>\n",
              "      <td>0.005000</td>\n",
              "      <td>20.000000</td>\n",
              "      <td>0.200000</td>\n",
              "      <td>0.000000</td>\n",
              "    </tr>\n",
              "    <tr>\n",
              "      <th>25%</th>\n",
              "      <td>25.000000</td>\n",
              "      <td>0.240000</td>\n",
              "      <td>700.000000</td>\n",
              "      <td>0.021000</td>\n",
              "      <td>90.000000</td>\n",
              "      <td>1.300000</td>\n",
              "      <td>0.000000</td>\n",
              "    </tr>\n",
              "    <tr>\n",
              "      <th>50%</th>\n",
              "      <td>29.000000</td>\n",
              "      <td>0.290000</td>\n",
              "      <td>900.000000</td>\n",
              "      <td>0.027000</td>\n",
              "      <td>120.000000</td>\n",
              "      <td>1.800000</td>\n",
              "      <td>0.000000</td>\n",
              "    </tr>\n",
              "    <tr>\n",
              "      <th>75%</th>\n",
              "      <td>35.000000</td>\n",
              "      <td>0.340000</td>\n",
              "      <td>1000.000000</td>\n",
              "      <td>0.034000</td>\n",
              "      <td>150.000000</td>\n",
              "      <td>2.300000</td>\n",
              "      <td>1.000000</td>\n",
              "    </tr>\n",
              "    <tr>\n",
              "      <th>max</th>\n",
              "      <td>50.000000</td>\n",
              "      <td>0.500000</td>\n",
              "      <td>1200.000000</td>\n",
              "      <td>0.050000</td>\n",
              "      <td>200.000000</td>\n",
              "      <td>2.900000</td>\n",
              "      <td>1.000000</td>\n",
              "    </tr>\n",
              "  </tbody>\n",
              "</table>\n",
              "</div>\n",
              "      <button class=\"colab-df-convert\" onclick=\"convertToInteractive('df-76053021-2b3a-4d5f-a6f1-a1f9b45bfdf8')\"\n",
              "              title=\"Convert this dataframe to an interactive table.\"\n",
              "              style=\"display:none;\">\n",
              "        \n",
              "  <svg xmlns=\"http://www.w3.org/2000/svg\" height=\"24px\"viewBox=\"0 0 24 24\"\n",
              "       width=\"24px\">\n",
              "    <path d=\"M0 0h24v24H0V0z\" fill=\"none\"/>\n",
              "    <path d=\"M18.56 5.44l.94 2.06.94-2.06 2.06-.94-2.06-.94-.94-2.06-.94 2.06-2.06.94zm-11 1L8.5 8.5l.94-2.06 2.06-.94-2.06-.94L8.5 2.5l-.94 2.06-2.06.94zm10 10l.94 2.06.94-2.06 2.06-.94-2.06-.94-.94-2.06-.94 2.06-2.06.94z\"/><path d=\"M17.41 7.96l-1.37-1.37c-.4-.4-.92-.59-1.43-.59-.52 0-1.04.2-1.43.59L10.3 9.45l-7.72 7.72c-.78.78-.78 2.05 0 2.83L4 21.41c.39.39.9.59 1.41.59.51 0 1.02-.2 1.41-.59l7.78-7.78 2.81-2.81c.8-.78.8-2.07 0-2.86zM5.41 20L4 18.59l7.72-7.72 1.47 1.35L5.41 20z\"/>\n",
              "  </svg>\n",
              "      </button>\n",
              "      \n",
              "  <style>\n",
              "    .colab-df-container {\n",
              "      display:flex;\n",
              "      flex-wrap:wrap;\n",
              "      gap: 12px;\n",
              "    }\n",
              "\n",
              "    .colab-df-convert {\n",
              "      background-color: #E8F0FE;\n",
              "      border: none;\n",
              "      border-radius: 50%;\n",
              "      cursor: pointer;\n",
              "      display: none;\n",
              "      fill: #1967D2;\n",
              "      height: 32px;\n",
              "      padding: 0 0 0 0;\n",
              "      width: 32px;\n",
              "    }\n",
              "\n",
              "    .colab-df-convert:hover {\n",
              "      background-color: #E2EBFA;\n",
              "      box-shadow: 0px 1px 2px rgba(60, 64, 67, 0.3), 0px 1px 3px 1px rgba(60, 64, 67, 0.15);\n",
              "      fill: #174EA6;\n",
              "    }\n",
              "\n",
              "    [theme=dark] .colab-df-convert {\n",
              "      background-color: #3B4455;\n",
              "      fill: #D2E3FC;\n",
              "    }\n",
              "\n",
              "    [theme=dark] .colab-df-convert:hover {\n",
              "      background-color: #434B5C;\n",
              "      box-shadow: 0px 1px 3px 1px rgba(0, 0, 0, 0.15);\n",
              "      filter: drop-shadow(0px 1px 2px rgba(0, 0, 0, 0.3));\n",
              "      fill: #FFFFFF;\n",
              "    }\n",
              "  </style>\n",
              "\n",
              "      <script>\n",
              "        const buttonEl =\n",
              "          document.querySelector('#df-76053021-2b3a-4d5f-a6f1-a1f9b45bfdf8 button.colab-df-convert');\n",
              "        buttonEl.style.display =\n",
              "          google.colab.kernel.accessAllowed ? 'block' : 'none';\n",
              "\n",
              "        async function convertToInteractive(key) {\n",
              "          const element = document.querySelector('#df-76053021-2b3a-4d5f-a6f1-a1f9b45bfdf8');\n",
              "          const dataTable =\n",
              "            await google.colab.kernel.invokeFunction('convertToInteractive',\n",
              "                                                     [key], {});\n",
              "          if (!dataTable) return;\n",
              "\n",
              "          const docLinkHtml = 'Like what you see? Visit the ' +\n",
              "            '<a target=\"_blank\" href=https://colab.research.google.com/notebooks/data_table.ipynb>data table notebook</a>'\n",
              "            + ' to learn more about interactive tables.';\n",
              "          element.innerHTML = '';\n",
              "          dataTable['output_type'] = 'display_data';\n",
              "          await google.colab.output.renderOutput(dataTable, element);\n",
              "          const docLink = document.createElement('div');\n",
              "          docLink.innerHTML = docLinkHtml;\n",
              "          element.appendChild(docLink);\n",
              "        }\n",
              "      </script>\n",
              "    </div>\n",
              "  </div>\n",
              "  "
            ]
          },
          "metadata": {},
          "execution_count": 10
        }
      ]
    },
    {
      "cell_type": "code",
      "source": [
        "# 데이터 시각화\n",
        "nrows, ncols = 2,3\n",
        "fig, axs = plt.subplots(nrows=nrows, ncols=ncols)\n",
        "#fig : 전체 subplot(전체 사이즈), axs : 낱낱개\n",
        "fig.set_size_inches(10, 6)\n",
        "\n",
        "for i in range(nrows):\n",
        "  for j in range(ncols):\n",
        "    attr = i * ncols + j\n",
        "    sns.histplot(x=df.columns[attr], data=df, ax=axs[i][j], hue='target')"
      ],
      "metadata": {
        "colab": {
          "base_uri": "https://localhost:8080/",
          "height": 388
        },
        "id": "NKMfJMTK3-_7",
        "outputId": "b7d2c063-bfee-4a31-f030-c7c82d891820"
      },
      "execution_count": null,
      "outputs": [
        {
          "output_type": "display_data",
          "data": {
            "text/plain": [
              "<Figure size 720x432 with 6 Axes>"
            ],
            "image/png": "[encoded data removed]"
          },
          "metadata": {
            "needs_background": "light"
          }
        }
      ]
    },
    {
      "cell_type": "markdown",
      "source": [
        "## 주요 코드 미리보기\n",
        "----\n",
        "1. 데이터 분할 : train, test\n",
        "    - train_test_split\n",
        "2. 모델 인스턴스 생성\n",
        "    - DecisionTreseClassifier\n",
        "3. 모델 학습\n",
        "    - .fit(X, y)\n",
        "    - X(독립변수, feature)를 y(종속변수, target)에 맞춘다.\n",
        "4. 모델 평가\n",
        "    - classifier : accuracy"
      ],
      "metadata": {
        "id": "qCfSy1ul8LYC"
      }
    },
    {
      "cell_type": "code",
      "source": [
        "from sklearn.model_selection import train_test_split\n",
        "from sklearn.tree import DecisionTreeClassifier\n",
        "from sklearn.metrics import accuracy_score\n",
        "\n",
        "# 1. 데이터 분할\n",
        "X = df.iloc[:, :6]\n",
        "y = df['target']\n",
        "\n",
        "X_train, X_test, y_train, y_test = train_test_split(\n",
        "    X, y, test_size = 0.2, random_state=42, stratify = y #stratify : 분류기 만들 때 전체 카테고리가 균일하게 분할\n",
        ")\n",
        "\n",
        "# 2. 모델 인스턴스 생성\n",
        "model = DecisionTreeClassifier(random_state=42)\n",
        "\n",
        "# 3. 모델 학습\n",
        "model.fit(X_train, y_train)\n",
        "\n",
        "# 4. 모델 평가\n",
        "y_pred = model.predict(X_test)\n",
        "accuracy_score(y_test, y_pred)"
      ],
      "metadata": {
        "colab": {
          "base_uri": "https://localhost:8080/"
        },
        "id": "kBcMvdOc6dXK",
        "outputId": "04ed92e3-e7c1-47d7-e425-9116c80f7ad7"
      },
      "execution_count": null,
      "outputs": [
        {
          "output_type": "execute_result",
          "data": {
            "text/plain": [
              "0.8"
            ]
          },
          "metadata": {},
          "execution_count": 12
        }
      ]
    },
    {
      "cell_type": "markdown",
      "source": [
        "# 코드 구현"
      ],
      "metadata": {
        "id": "4YzxnG2aASnB"
      }
    },
    {
      "cell_type": "code",
      "source": [
        "#하나의 decisiontree classifier는 과적합될 확률이 높고, 성능이 별로 좋지 않은 모델이다. \n",
        "#decisiontree보다 ensemble한 모델들을 사용하는 것이 좋다.\n",
        "from sklearn.ensemble import RandomForestClassifier\n",
        "from sklearn.ensemble import GradientBoostingClassifier\n",
        "from xgboost import XGBClassifier\n",
        "from lightgbm import LGBMClassifier\n",
        "\n",
        "# 2. 모델 인스턴스 생성\n",
        "rf_cls = RandomForestClassifier(random_state=42)\n",
        "gb_cls = GradientBoostingClassifier(random_state=42)\n",
        "xgb_cls = XGBClassifier(random_state=42)\n",
        "lgb_cls = LGBMClassifier(random_state=42)\n",
        "\n",
        "# 3. 모델 학습\n",
        "# model_list = [rf_cls, gb_cls, xgb_cls, lgb_cls]\n",
        "# for model in model_list:\n",
        "#   model.fit(X_train, y_train)\n",
        "#   y_pred = model.predict(X_test)\n",
        "#   m = model.__class__.__name__\n",
        "#   acc = accuracy_score(y_test, y_pred)\n",
        "#   print(f'{m} acc = {acc}')\n",
        "\n",
        "rf_cls.fit(X_train, y_train)\n",
        "gb_cls.fit(X_train, y_train)\n",
        "xgb_cls.fit(X_train, y_train)\n",
        "lgb_cls.fit(X_train, y_train)\n",
        "\n",
        "# 4. 모델 평가\n",
        "y_pred_rf = rf_cls.predict(X_test)\n",
        "y_pred_gb = gb_cls.predict(X_test)\n",
        "y_pred_xgb = xgb_cls.predict(X_test)\n",
        "y_pred_lgb = lgb_cls.predict(X_test)\n",
        "\n",
        "print('RandomForest accuracy:{}'.format(accuracy_score(y_test, y_pred_rf)))\n",
        "print('GB accuracy:{}'.format(accuracy_score(y_test, y_pred_gb)))\n",
        "print('XGB accuracy:{}'.format(accuracy_score(y_test, y_pred_xgb)))\n",
        "print('LGB accuracy:{}'.format(accuracy_score(y_test, y_pred_lgb)))\n",
        "'''\n",
        "RandomForest accuracy:0.91\n",
        "GB accuracy:0.915\n",
        "XGB accuracy:0.91\n",
        "LGB accuracy:0.905'''"
      ],
      "metadata": {
        "colab": {
          "base_uri": "https://localhost:8080/",
          "height": 110
        },
        "id": "810GExg19Tia",
        "outputId": "2f11d63a-bff8-4254-d01d-f88aedae9664"
      },
      "execution_count": null,
      "outputs": [
        {
          "output_type": "stream",
          "name": "stdout",
          "text": [
            "RandomForest accuracy:0.91\n",
            "GB accuracy:0.915\n",
            "XGB accuracy:0.91\n",
            "LGB accuracy:0.905\n"
          ]
        },
        {
          "output_type": "execute_result",
          "data": {
            "text/plain": [
              "'\\nRandomForest accuracy:0.91\\nGB accuracy:0.915\\nXGB accuracy:0.91\\nLGB accuracy:0.905'"
            ],
            "application/vnd.google.colaboratory.intrinsic+json": {
              "type": "string"
            }
          },
          "metadata": {},
          "execution_count": 18
        }
      ]
    },
    {
      "cell_type": "code",
      "source": [],
      "metadata": {
        "id": "LS9fRnEh9UZI"
      },
      "execution_count": null,
      "outputs": []
    },
    {
      "cell_type": "code",
      "source": [
        "from sklearn.svm import SVC\n",
        "svc = SVC()\n",
        "svc.fit(X_train, y_train)\n",
        "y_pred_svc = svc.predict(X_test)\n",
        "accuracy_score(y_test, y_pred_svc)\n",
        "#column마다 주어진 scale이 다 다르므로 성능이 좋을 수가 없다.\n",
        "#거리 기반의 연산을 수행하는 모델 사용시에 데이터 전처리 안한다면 좋은 성능을 얻을수 x"
      ],
      "metadata": {
        "colab": {
          "base_uri": "https://localhost:8080/"
        },
        "id": "fdYjgsDyhWjA",
        "outputId": "638a578c-6c06-4e40-bff5-f81d5f302193"
      },
      "execution_count": null,
      "outputs": [
        {
          "output_type": "execute_result",
          "data": {
            "text/plain": [
              "0.72"
            ]
          },
          "metadata": {},
          "execution_count": 19
        }
      ]
    },
    {
      "cell_type": "code",
      "source": [
        "#주어진 scale맞춰주기\n",
        "from sklearn.preprocessing import StandardScaler\n",
        "\n",
        "sc = StandardScaler()\n",
        "X_scale = sc.fit_transform(X) #한꺼번에 train, test변환하고 다시 쪼개주기"
      ],
      "metadata": {
        "id": "4vIUkNCLiDTL"
      },
      "execution_count": null,
      "outputs": []
    },
    {
      "cell_type": "code",
      "source": [
        "X_train, X_test, y_train, y_test = train_test_split(\n",
        "    X_scale, y, test_size = 0.2, random_state=42, stratify = y #stratify : 분류기 만들 때 전체 카테고리가 균일하게 분할\n",
        ")\n",
        "\n",
        "svc = SVC()\n",
        "svc.fit(X_train, y_train)\n",
        "y_pred_svc = svc.predict(X_test)\n",
        "accuracy_score(y_test, y_pred_svc)"
      ],
      "metadata": {
        "colab": {
          "base_uri": "https://localhost:8080/"
        },
        "id": "EfgaVgK5kT59",
        "outputId": "88ff89f7-5f8f-4897-ebd3-4f42ac2c55ff"
      },
      "execution_count": null,
      "outputs": [
        {
          "output_type": "execute_result",
          "data": {
            "text/plain": [
              "0.92"
            ]
          },
          "metadata": {},
          "execution_count": 23
        }
      ]
    },
    {
      "cell_type": "code",
      "source": [],
      "metadata": {
        "id": "kCeeC44nlVVg"
      },
      "execution_count": null,
      "outputs": []
    }
  ]
}