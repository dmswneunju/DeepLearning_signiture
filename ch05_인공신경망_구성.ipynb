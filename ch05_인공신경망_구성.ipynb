{
  "nbformat": 4,
  "nbformat_minor": 0,
  "metadata": {
    "colab": {
      "provenance": [],
      "toc_visible": true,
      "authorship_tag": "ABX9TyNQ4RfPUd8BmVUZ+HgysWmQ",
      "include_colab_link": true
    },
    "kernelspec": {
      "name": "python3",
      "display_name": "Python 3"
    },
    "language_info": {
      "name": "python"
    }
  },
  "cells": [
    {
      "cell_type": "markdown",
      "metadata": {
        "id": "view-in-github",
        "colab_type": "text"
      },
      "source": [
        "<a href=\"https://colab.research.google.com/github/dmswneunju/DeepLearning_signiture/blob/main/ch05_%EC%9D%B8%EA%B3%B5%EC%8B%A0%EA%B2%BD%EB%A7%9D_%EA%B5%AC%EC%84%B1.ipynb\" target=\"_parent\"><img src=\"https://colab.research.google.com/assets/colab-badge.svg\" alt=\"Open In Colab\"/></a>"
      ]
    },
    {
      "cell_type": "markdown",
      "source": [
        "# 문제 정의\n",
        "## multiclass classifier"
      ],
      "metadata": {
        "id": "HxsFTY9RrCbs"
      }
    },
    {
      "cell_type": "markdown",
      "source": [
        "## 주요코드\n"
      ],
      "metadata": {
        "id": "Ipn60kuGrKLD"
      }
    },
    {
      "cell_type": "markdown",
      "source": [
        "### 1. TensorDataset과 Dataloader\n",
        "*   입력데이터를 쉽게 처리하고, 배치 단위로 잘라서 학습할 수 있게 도와주는 모듈\n",
        "*   (Tensor)Dataset (class) : 학습시 사용하는 데이터의 feature(x)와 target(y)의 pair로 이루어짐.\n",
        " * 아래에서 코드에서는 tensordataset을 사용하여 dataset인스턴스를 생성했지만, 이미지의 사례와 같이 dataset클래스를 상속받아서 커스텀 인스텀스를 생성하는 형태로 많이 사용.\n",
        "* Dataloader : 학습 시 각 인스턴스에 쉽게 접근할 수 있도록 순회 가능한 객체(iterable)생성\n",
        "\n",
        "모델 생성 시 x가 들어가서 y가 나온다.  \n",
        "pytorch에서는 x와 y를 변수에 하나씩 설정하는 것이 아니라 Dataset이라는 class를 만들어 관리.  \n",
        "Dataset은 x와 y에 대해서 설정해준 값. 목적에 맞게끔 분할 해준 후 초기화 진행.  \n",
        "DataLoader는 \n",
        "* batch로 쪼개지는 것, 쪼갤 때 값을 shuffle하는 역할.\n",
        "* batch size만큼 모델에 넣어 학습시키고, loss구하고, 역전파 진행, optimizer를 통해 최적화 진행."
      ],
      "metadata": {
        "id": "nRVufsK5zGDY"
      }
    },
    {
      "cell_type": "markdown",
      "source": [
        "### 2. Device설정\n",
        "* 인공신경망은 GPU를 사용하는 것이 바람직함.\n",
        "* pytorch에서는 GPU를 사용하여 학습하도록 명시해줄 필요"
      ],
      "metadata": {
        "id": "pg47Si4bzKPo"
      }
    },
    {
      "cell_type": "markdown",
      "source": [
        "### 3. 신경망 생성\n",
        "* **torch.nn**패키지는 신경망 생성 및 학습 시 설정해야하는 다양한 기능 제공\n",
        "* **nn.Module**을 상속받아 신경망 정의"
      ],
      "metadata": {
        "id": "J3Lr273lz5XQ"
      }
    },
    {
      "cell_type": "markdown",
      "source": [
        "### 4. Model compile\n",
        "* 학습 시 필요한 정보들(loss function, optimizer)을 선언\n",
        "* loss와 optimizer는 변수로 선언하고, 변수를 train/test시 참고할수 있도록 배개변수로 지정  \n",
        "\n",
        "learning_rate = 0.01  \n",
        "loss = nn.CrossEntropyLoss()  \n",
        "optimizer = torch.optim.Adam(model.parameters(), lr=learning_rate)"
      ],
      "metadata": {
        "id": "wWZdrYXM1IcH"
      }
    },
    {
      "cell_type": "markdown",
      "source": [
        "### 5. Train\n",
        "* 신경망의 학습과정을 별도의 함수로 구성하는 것이 일반적\n",
        " * feed forward -> loss -> error back propagation -> (log)(loss가 얼만큼인지 print로 출력 or log파일로 저장) -> (반복)"
      ],
      "metadata": {
        "id": "JEX7sGBU19LY"
      }
    },
    {
      "cell_type": "markdown",
      "source": [
        "### 6. Test\n",
        "* 학습과정과 비슷하나 error back propagate하는 부분이 없다.\n",
        " * feed forward -> loss -> (log) -> (반복)"
      ],
      "metadata": {
        "id": "fdxuNBok3T7_"
      }
    },
    {
      "cell_type": "markdown",
      "source": [
        "### 7. Iteration\n",
        "* 신경망 학습은 여러 epochs을 반복해서 수행하면서 모델을 구성하는 최적의 파라미터를 찾는다.\n",
        "* 지정한 epochs 수만큼 학습과 평가를 반복하면서 모델의 성능(loss, accuracy 등)을 체크"
      ],
      "metadata": {
        "id": "uQVnqh3X4Qce"
      }
    },
    {
      "cell_type": "markdown",
      "source": [
        "# Basic Neural Network\n",
        "iris데이터셋을 사용하여 꽃의 품종 구분하는 분류기를 신경망을 사용하여 구현"
      ],
      "metadata": {
        "id": "MyYYh5gh49bu"
      }
    },
    {
      "cell_type": "markdown",
      "source": [
        "## [Step1] Load libraries & Datasets"
      ],
      "metadata": {
        "id": "ioOibCzo5mgl"
      }
    },
    {
      "cell_type": "code",
      "execution_count": null,
      "metadata": {
        "id": "BG26NTHQq3ke"
      },
      "outputs": [],
      "source": [
        "import numpy as np\n",
        "import pandas as pd\n",
        "import matplotlib.pyplot as plt\n",
        "import seaborn as sns\n",
        "from sklearn.datasets import load_iris\n",
        "from sklearn.model_selection import train_test_split\n",
        "import torch\n",
        "import torch.nn as nn\n",
        "from torch.utils.data import TensorDataset, DataLoader\n",
        "\n",
        "# 데이터 불러오기\n",
        "iris = load_iris()\n",
        "df = pd.DataFrame(data=iris.data, columns=iris.feature_names)\n",
        "df['label'] = iris.target\n",
        "\n",
        "# 데이터 분할\n",
        "y = df['label']\n",
        "X = df.drop(['label'], axis=1)\n",
        "\n",
        "X_train, X_test, y_train, y_test = train_test_split(X.values, y.values, random_state=42, stratify=y) \n",
        "# stratify:각각의 품종이 동일한 비율로 train, test에 들어가도록"
      ]
    },
    {
      "cell_type": "markdown",
      "source": [
        "## [Step2] Create DataLoader\n"
      ],
      "metadata": {
        "id": "X_k1Atdo-IIN"
      }
    },
    {
      "cell_type": "code",
      "source": [
        "X_train = torch.tensor(X_train, dtype=torch.float32)\n",
        "X_test = torch.tensor(X_test, dtype=torch.float32)\n",
        "y_train = torch.tensor(y_train, dtype=torch.int64)\n",
        "y_test = torch.tensor(y_test, dtype=torch.int64)\n",
        "\n",
        "train_dataset = TensorDataset(X_train, y_train)\n",
        "test_dataset = TensorDataset(X_test, y_test)\n",
        "\n",
        "train_dataloader = DataLoader(train_dataset, batch_size=10, shuffle=True)\n",
        "test_dataloader = DataLoader(test_dataset, batch_size=10, shuffle=True)"
      ],
      "metadata": {
        "id": "sPYAJ0NfrHtr"
      },
      "execution_count": null,
      "outputs": []
    },
    {
      "cell_type": "markdown",
      "source": [
        "## [Step3] Set Network Structure"
      ],
      "metadata": {
        "id": "An9EgzgTACN0"
      }
    },
    {
      "cell_type": "code",
      "source": [
        "class NeuralNetwork(nn.Module):\n",
        "  def __init__(self):\n",
        "    super(NeuralNetwork, self).__init__()\n",
        "    self.input_layer = nn.Linear(4,16)\n",
        "    self.hidden_layer1 = nn.Linear(16, 32)\n",
        "    self.output_layer = nn.Linear(32,3)\n",
        "    self.relu = nn.ReLU()\n",
        "\n",
        "  def forward(self, x):\n",
        "    out = self.relu(self.input_layer(x))\n",
        "    out = self.relu(self.hidden_layer1(out))\n",
        "    out = self.output_layer(out)\n",
        "    return out"
      ],
      "metadata": {
        "id": "zo0wk1tz8IDP"
      },
      "execution_count": null,
      "outputs": []
    },
    {
      "cell_type": "markdown",
      "source": [
        "## [Step4] Create Model instance"
      ],
      "metadata": {
        "id": "eflGnJ9fBC5L"
      }
    },
    {
      "cell_type": "code",
      "source": [
        "device = 'cuda' if torch.cuda.is_available() else 'cpu'\n",
        "print(f'device = {device}')\n",
        "\n",
        "model = NeuralNetwork().to(device)"
      ],
      "metadata": {
        "colab": {
          "base_uri": "https://localhost:8080/"
        },
        "id": "tNm0ATNzBBnC",
        "outputId": "63b0aa38-2743-4469-9525-a941f462bedc"
      },
      "execution_count": null,
      "outputs": [
        {
          "output_type": "stream",
          "name": "stdout",
          "text": [
            "device = cpu\n"
          ]
        }
      ]
    },
    {
      "cell_type": "markdown",
      "source": [
        "## [Step5] Model compile"
      ],
      "metadata": {
        "id": "LF4VeZ8QB0MS"
      }
    },
    {
      "cell_type": "code",
      "source": [
        "# 모델 컴파일\n",
        "learning_rate = 0.001\n",
        "loss = nn.CrossEntropyLoss() #다중 분류이므로 cross entropy 사용\n",
        "optimizer = torch.optim.Adam(model.parameters(), lr=learning_rate)"
      ],
      "metadata": {
        "id": "zPWCJMj9Bbb4"
      },
      "execution_count": null,
      "outputs": []
    },
    {
      "cell_type": "markdown",
      "source": [
        "## [Step6] Set train loop"
      ],
      "metadata": {
        "id": "lbyohYVLCLYj"
      }
    },
    {
      "cell_type": "code",
      "source": [
        "def train_loop(train_loader, model, loss_fn, optimizer):\n",
        "  size = len(train_loader.dataset)\n",
        "\n",
        "  for batch, (X,y) in enumerate(train_loader):\n",
        "    X, y = X.to(device), y.to(device)\n",
        "    pred = model(X)\n",
        "\n",
        "    #손실 계산\n",
        "    loss = loss_fn(pred, y)\n",
        "\n",
        "    #역전파\n",
        "    optimizer.zero_grad()\n",
        "    loss.backward()\n",
        "    optimizer.step()\n",
        "\n",
        "    loss, current = loss.item(), batch*len(X)\n",
        "    print(f'loss: {loss:>7f} [{current:>5d}]/{size:5d}')"
      ],
      "metadata": {
        "id": "WWnWBu88CGu2"
      },
      "execution_count": null,
      "outputs": []
    },
    {
      "cell_type": "markdown",
      "source": [
        "## [Step7] Set test loop"
      ],
      "metadata": {
        "id": "fRzrUixBHZV4"
      }
    },
    {
      "cell_type": "code",
      "source": [
        "def test_loop(test_loader, model, loss_fn):\n",
        "  size = len(test_loader.dataset)\n",
        "  num_batches = len(test_loader)\n",
        "  test_loss, correct = 0,0\n",
        "\n",
        "  with torch.no_grad():\n",
        "    for X, y in test_loader:\n",
        "      X,y = X.to(device), y.to(device)\n",
        "      pred = model(X)\n",
        "      test_loss += loss_fn(pred, y).item()\n",
        "      correct += (pred.argmax(1)==y).type(torch.float).sum().item()\n",
        "\n",
        "    test_loss /= num_batches\n",
        "    correct /= size\n",
        "    print(f'Test Error: \\n Accuracy: {(100*correct):>0.1f}%, Avg loss: {test_loss:8f}\\n')"
      ],
      "metadata": {
        "id": "vT86Zz6LHYKG"
      },
      "execution_count": null,
      "outputs": []
    },
    {
      "cell_type": "markdown",
      "source": [
        "## [Step8] Run model"
      ],
      "metadata": {
        "id": "CJO8kA0XJjtX"
      }
    },
    {
      "cell_type": "code",
      "source": [
        "# 모델 실행\n",
        "epochs = 10\n",
        "\n",
        "for i in range(epochs):\n",
        "  print(f'Epoch {i+1} \\n--------------')\n",
        "  train_loop(train_dataloader, model, loss, optimizer)\n",
        "  test_loop(test_dataloader, model, loss)\n",
        "print('Done!')"
      ],
      "metadata": {
        "colab": {
          "base_uri": "https://localhost:8080/"
        },
        "id": "3nuUmzS0JjIS",
        "outputId": "556877e9-e9b6-4c77-869e-c11be61265ac"
      },
      "execution_count": null,
      "outputs": [
        {
          "output_type": "stream",
          "name": "stdout",
          "text": [
            "Epoch 1 \n",
            "--------------\n",
            "loss: 1.097464 [    0]/  112\n",
            "loss: 1.019018 [   10]/  112\n",
            "loss: 0.962196 [   20]/  112\n",
            "loss: 1.128915 [   30]/  112\n",
            "loss: 1.049655 [   40]/  112\n",
            "loss: 1.170791 [   50]/  112\n",
            "loss: 1.094822 [   60]/  112\n",
            "loss: 0.937628 [   70]/  112\n",
            "loss: 1.073336 [   80]/  112\n",
            "loss: 0.881836 [   90]/  112\n",
            "loss: 1.041271 [  100]/  112\n",
            "loss: 0.950197 [   22]/  112\n",
            "Test Error: \n",
            " Accuracy: 34.2%, Avg loss: 1.011848\n",
            "\n",
            "Epoch 2 \n",
            "--------------\n",
            "loss: 1.092918 [    0]/  112\n",
            "loss: 1.066972 [   10]/  112\n",
            "loss: 0.906169 [   20]/  112\n",
            "loss: 1.022640 [   30]/  112\n",
            "loss: 1.146152 [   40]/  112\n",
            "loss: 1.097861 [   50]/  112\n",
            "loss: 0.947375 [   60]/  112\n",
            "loss: 0.936360 [   70]/  112\n",
            "loss: 0.928108 [   80]/  112\n",
            "loss: 0.902105 [   90]/  112\n",
            "loss: 0.952163 [  100]/  112\n",
            "loss: 0.950624 [   22]/  112\n",
            "Test Error: \n",
            " Accuracy: 34.2%, Avg loss: 0.978223\n",
            "\n",
            "Epoch 3 \n",
            "--------------\n",
            "loss: 1.076252 [    0]/  112\n",
            "loss: 0.979155 [   10]/  112\n",
            "loss: 1.068217 [   20]/  112\n",
            "loss: 0.887614 [   30]/  112\n",
            "loss: 0.935192 [   40]/  112\n",
            "loss: 0.992929 [   50]/  112\n",
            "loss: 0.873947 [   60]/  112\n",
            "loss: 0.774944 [   70]/  112\n",
            "loss: 0.997479 [   80]/  112\n",
            "loss: 1.052332 [   90]/  112\n",
            "loss: 0.909400 [  100]/  112\n",
            "loss: 1.061690 [   22]/  112\n",
            "Test Error: \n",
            " Accuracy: 47.4%, Avg loss: 0.945417\n",
            "\n",
            "Epoch 4 \n",
            "--------------\n",
            "loss: 0.887022 [    0]/  112\n",
            "loss: 1.076063 [   10]/  112\n",
            "loss: 1.064466 [   20]/  112\n",
            "loss: 0.865727 [   30]/  112\n",
            "loss: 0.906159 [   40]/  112\n",
            "loss: 0.900311 [   50]/  112\n",
            "loss: 1.005301 [   60]/  112\n",
            "loss: 0.904827 [   70]/  112\n",
            "loss: 0.937221 [   80]/  112\n",
            "loss: 0.801303 [   90]/  112\n",
            "loss: 0.861153 [  100]/  112\n",
            "loss: 0.844930 [   22]/  112\n",
            "Test Error: \n",
            " Accuracy: 65.8%, Avg loss: 0.907815\n",
            "\n",
            "Epoch 5 \n",
            "--------------\n",
            "loss: 0.913555 [    0]/  112\n",
            "loss: 0.832218 [   10]/  112\n",
            "loss: 0.958125 [   20]/  112\n",
            "loss: 0.896874 [   30]/  112\n",
            "loss: 0.862103 [   40]/  112\n",
            "loss: 0.955801 [   50]/  112\n",
            "loss: 0.851807 [   60]/  112\n",
            "loss: 0.925917 [   70]/  112\n",
            "loss: 0.746929 [   80]/  112\n",
            "loss: 0.897692 [   90]/  112\n",
            "loss: 0.871076 [  100]/  112\n",
            "loss: 1.000789 [   22]/  112\n",
            "Test Error: \n",
            " Accuracy: 65.8%, Avg loss: 0.865156\n",
            "\n",
            "Epoch 6 \n",
            "--------------\n",
            "loss: 0.701445 [    0]/  112\n",
            "loss: 0.845395 [   10]/  112\n",
            "loss: 0.854895 [   20]/  112\n",
            "loss: 0.863986 [   30]/  112\n",
            "loss: 0.874671 [   40]/  112\n",
            "loss: 0.844212 [   50]/  112\n",
            "loss: 0.859490 [   60]/  112\n",
            "loss: 0.869768 [   70]/  112\n",
            "loss: 0.810643 [   80]/  112\n",
            "loss: 0.867292 [   90]/  112\n",
            "loss: 0.865377 [  100]/  112\n",
            "loss: 0.948719 [   22]/  112\n",
            "Test Error: \n",
            " Accuracy: 65.8%, Avg loss: 0.818275\n",
            "\n",
            "Epoch 7 \n",
            "--------------\n",
            "loss: 0.810464 [    0]/  112\n",
            "loss: 0.889452 [   10]/  112\n",
            "loss: 0.697233 [   20]/  112\n",
            "loss: 0.811021 [   30]/  112\n",
            "loss: 0.812930 [   40]/  112\n",
            "loss: 0.744422 [   50]/  112\n",
            "loss: 0.743333 [   60]/  112\n",
            "loss: 0.883454 [   70]/  112\n",
            "loss: 0.765628 [   80]/  112\n",
            "loss: 0.860116 [   90]/  112\n",
            "loss: 0.730943 [  100]/  112\n",
            "loss: 0.914942 [   22]/  112\n",
            "Test Error: \n",
            " Accuracy: 68.4%, Avg loss: 0.779617\n",
            "\n",
            "Epoch 8 \n",
            "--------------\n",
            "loss: 0.737952 [    0]/  112\n",
            "loss: 0.709905 [   10]/  112\n",
            "loss: 0.731503 [   20]/  112\n",
            "loss: 0.857497 [   30]/  112\n",
            "loss: 0.793276 [   40]/  112\n",
            "loss: 0.797403 [   50]/  112\n",
            "loss: 0.759584 [   60]/  112\n",
            "loss: 0.742635 [   70]/  112\n",
            "loss: 0.653962 [   80]/  112\n",
            "loss: 0.799865 [   90]/  112\n",
            "loss: 0.700761 [  100]/  112\n",
            "loss: 0.622911 [   22]/  112\n",
            "Test Error: \n",
            " Accuracy: 73.7%, Avg loss: 0.727990\n",
            "\n",
            "Epoch 9 \n",
            "--------------\n",
            "loss: 0.659316 [    0]/  112\n",
            "loss: 0.630019 [   10]/  112\n",
            "loss: 0.731239 [   20]/  112\n",
            "loss: 0.802530 [   30]/  112\n",
            "loss: 0.643647 [   40]/  112\n",
            "loss: 0.637051 [   50]/  112\n",
            "loss: 0.775800 [   60]/  112\n",
            "loss: 0.793792 [   70]/  112\n",
            "loss: 0.728517 [   80]/  112\n",
            "loss: 0.699673 [   90]/  112\n",
            "loss: 0.590683 [  100]/  112\n",
            "loss: 0.757275 [   22]/  112\n",
            "Test Error: \n",
            " Accuracy: 71.1%, Avg loss: 0.680698\n",
            "\n",
            "Epoch 10 \n",
            "--------------\n",
            "loss: 0.681529 [    0]/  112\n",
            "loss: 0.593039 [   10]/  112\n",
            "loss: 0.657962 [   20]/  112\n",
            "loss: 0.602988 [   30]/  112\n",
            "loss: 0.637847 [   40]/  112\n",
            "loss: 0.667765 [   50]/  112\n",
            "loss: 0.664211 [   60]/  112\n",
            "loss: 0.621258 [   70]/  112\n",
            "loss: 0.722421 [   80]/  112\n",
            "loss: 0.623027 [   90]/  112\n",
            "loss: 0.698371 [  100]/  112\n",
            "loss: 0.457837 [   22]/  112\n",
            "Test Error: \n",
            " Accuracy: 71.1%, Avg loss: 0.630298\n",
            "\n",
            "Done!\n"
          ]
        }
      ]
    },
    {
      "cell_type": "code",
      "source": [],
      "metadata": {
        "id": "S3Y1hiYTKKA6"
      },
      "execution_count": null,
      "outputs": []
    }
  ]
}